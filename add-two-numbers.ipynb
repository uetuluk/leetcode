{
 "cells": [
  {
   "cell_type": "markdown",
   "metadata": {},
   "source": [
    "https://leetcode.com/problems/add-two-numbers/"
   ]
  },
  {
   "cell_type": "code",
   "execution_count": 4,
   "metadata": {},
   "outputs": [],
   "source": [
    "class ListNode:\n",
    "    def __init__(self, val=0, next=None):\n",
    "        self.val = val\n",
    "        self.next = next"
   ]
  },
  {
   "cell_type": "code",
   "execution_count": 5,
   "metadata": {},
   "outputs": [],
   "source": [
    "l1 = [2,4,3]\n",
    "l2 = [5,6,4]"
   ]
  },
  {
   "cell_type": "code",
   "execution_count": 37,
   "metadata": {},
   "outputs": [],
   "source": [
    "l1_list = ListNode(l1[0])\n",
    "l1_list_cursor = l1_list\n",
    "for i in range(1, len(l1)):\n",
    "    l1_list_cursor.next = ListNode(l1[i])\n",
    "    l1_list_cursor = l1_list_cursor.next\n",
    "\n",
    "l2_list = ListNode(l2[0])\n",
    "l2_list_cursor = l2_list\n",
    "\n",
    "for i in range(1, len(l2)):\n",
    "    l2_list_cursor.next = ListNode(l2[i])\n",
    "    l2_list_cursor = l2_list_cursor.next"
   ]
  },
  {
   "cell_type": "code",
   "execution_count": 42,
   "metadata": {},
   "outputs": [
    {
     "data": {
      "text/plain": [
       "True"
      ]
     },
     "execution_count": 42,
     "metadata": {},
     "output_type": "execute_result"
    }
   ],
   "source": []
  },
  {
   "cell_type": "code",
   "execution_count": 76,
   "metadata": {},
   "outputs": [
    {
     "name": "stdout",
     "output_type": "stream",
     "text": [
      "0 0\n",
      "7 0\n",
      "0 1\n",
      "8 0\n"
     ]
    }
   ],
   "source": [
    "l1_cursor = l1_list\n",
    "l2_cursor = l2_list\n",
    "\n",
    "current_digit = 0\n",
    "current_carry = 0\n",
    "\n",
    "print(current_digit, current_carry)\n",
    "\n",
    "# sum_list = ListNode(current_digit)\n",
    "# sum_list_cursor = sum_list\n",
    "\n",
    "while l1_cursor or l2_cursor:\n",
    "    current_digit = current_carry\n",
    "    if l1_cursor.val:\n",
    "        current_digit += l1_cursor.val\n",
    "    if l2_cursor.val:\n",
    "        current_digit += l2_cursor.val\n",
    "    \n",
    "    current_carry = current_digit // 10\n",
    "    current_digit = current_digit % 10\n",
    "\n",
    "    print(current_digit, current_carry)\n",
    "\n",
    "    sum_list_cursor = ListNode(current_digit)\n",
    "    # sum_list_cursor.next = ListNode()\n",
    "    sum_list_cursor = sum_list_cursor.next\n",
    "\n",
    "    l1_cursor = l1_cursor.next\n",
    "    l2_cursor = l2_cursor.next\n",
    "    "
   ]
  },
  {
   "cell_type": "code",
   "execution_count": 78,
   "metadata": {},
   "outputs": [
    {
     "ename": "AttributeError",
     "evalue": "'NoneType' object has no attribute 'val'",
     "output_type": "error",
     "traceback": [
      "\u001b[0;31m---------------------------------------------------------------------------\u001b[0m",
      "\u001b[0;31mAttributeError\u001b[0m                            Traceback (most recent call last)",
      "\u001b[1;32m/Users/uetuluk/Documents/leetcode/add-two-numbers.ipynb Cell 7'\u001b[0m in \u001b[0;36m<cell line: 1>\u001b[0;34m()\u001b[0m\n\u001b[0;32m----> <a href='vscode-notebook-cell:/Users/uetuluk/Documents/leetcode/add-two-numbers.ipynb#ch0000007?line=0'>1</a>\u001b[0m sum_list_cursor\u001b[39m.\u001b[39;49mval\n",
      "\u001b[0;31mAttributeError\u001b[0m: 'NoneType' object has no attribute 'val'"
     ]
    }
   ],
   "source": [
    "sum_list_cursor.val"
   ]
  },
  {
   "cell_type": "code",
   "execution_count": 166,
   "metadata": {},
   "outputs": [],
   "source": [
    "# Definition for singly-linked list.\n",
    "class ListNode:\n",
    "    def __init__(self, val=0, next=None):\n",
    "        self.val = val\n",
    "        self.next = next\n",
    "class Solution:\n",
    "    def addTwoNumbers(self, l1: ListNode, l2: ListNode) -> ListNode:\n",
    "        l1_cursor = l1\n",
    "        l2_cursor = l2\n",
    "\n",
    "        current_digit = (l1_cursor.val + l2_cursor.val) % 10\n",
    "        current_carry = (l1_cursor.val + l2_cursor.val) // 10\n",
    "\n",
    "        sum_list = ListNode(current_digit)\n",
    "        sum_list_cursor = sum_list\n",
    "\n",
    "        while l1_cursor.next or l2_cursor.next:\n",
    "            current_digit = current_carry\n",
    "            if l1_cursor and l1_cursor.next:\n",
    "                current_digit += l1_cursor.next.val\n",
    "                l1_cursor = l1_cursor.next\n",
    "            if l2_cursor and l2_cursor.next:\n",
    "                current_digit += l2_cursor.next.val\n",
    "                l2_cursor = l2_cursor.next\n",
    "            \n",
    "            current_carry = current_digit // 10\n",
    "            current_digit = current_digit % 10\n",
    "\n",
    "            sum_list_cursor.next = ListNode(current_digit)\n",
    "\n",
    "            sum_list_cursor = sum_list_cursor.next\n",
    "        \n",
    "        if current_carry:\n",
    "            sum_list_cursor.next = ListNode(current_carry)\n",
    "        \n",
    "        return sum_list         "
   ]
  },
  {
   "cell_type": "code",
   "execution_count": 167,
   "metadata": {},
   "outputs": [],
   "source": [
    "l1 = [9,9,9,9,9,9,9]\n",
    "l2 = [9,9,9,9]"
   ]
  },
  {
   "cell_type": "code",
   "execution_count": 168,
   "metadata": {},
   "outputs": [],
   "source": [
    "l1_list = ListNode(l1[0])\n",
    "l1_list_cursor = l1_list\n",
    "for i in range(1, len(l1)):\n",
    "    l1_list_cursor.next = ListNode(l1[i])\n",
    "    l1_list_cursor = l1_list_cursor.next\n",
    "\n",
    "l2_list = ListNode(l2[0])\n",
    "l2_list_cursor = l2_list\n",
    "\n",
    "for i in range(1, len(l2)):\n",
    "    l2_list_cursor.next = ListNode(l2[i])\n",
    "    l2_list_cursor = l2_list_cursor.next"
   ]
  },
  {
   "cell_type": "code",
   "execution_count": 169,
   "metadata": {},
   "outputs": [],
   "source": [
    "solution = Solution()\n",
    "solution_list = solution.addTwoNumbers(l1_list, l2_list)"
   ]
  },
  {
   "cell_type": "code",
   "execution_count": 170,
   "metadata": {},
   "outputs": [
    {
     "data": {
      "text/plain": [
       "8"
      ]
     },
     "execution_count": 170,
     "metadata": {},
     "output_type": "execute_result"
    }
   ],
   "source": [
    "solution_list.val"
   ]
  },
  {
   "cell_type": "code",
   "execution_count": null,
   "metadata": {},
   "outputs": [],
   "source": []
  }
 ],
 "metadata": {
  "interpreter": {
   "hash": "36867ff47f70aa4dbe2e5ace402db8c2a2d836502a56e3d4b679e323f97566da"
  },
  "kernelspec": {
   "display_name": "Python 3.10.2 64-bit ('3.10.2')",
   "language": "python",
   "name": "python3"
  },
  "language_info": {
   "codemirror_mode": {
    "name": "ipython",
    "version": 3
   },
   "file_extension": ".py",
   "mimetype": "text/x-python",
   "name": "python",
   "nbconvert_exporter": "python",
   "pygments_lexer": "ipython3",
   "version": "3.10.2"
  },
  "orig_nbformat": 4
 },
 "nbformat": 4,
 "nbformat_minor": 2
}
