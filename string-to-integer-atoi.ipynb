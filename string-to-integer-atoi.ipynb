{
 "cells": [
  {
   "cell_type": "markdown",
   "metadata": {},
   "source": [
    "https://leetcode.com/problems/string-to-integer-atoi/"
   ]
  },
  {
   "cell_type": "code",
   "execution_count": null,
   "metadata": {},
   "outputs": [],
   "source": [
    "string = \" -42 \"\n",
    "# simple loop\n",
    "\n",
    "value = 0\n",
    "for letter in string:\n",
    "    # ignored\n",
    "    if letter == \" \" or letter == \"+\":\n",
    "        continue\n",
    "\n",
    "    sign = 1\n",
    "    if letter == \"-\":\n",
    "        sign = -1\n",
    "    \n",
    "    # find the value\n",
    "    if letter == \"0\":\n",
    "        value = value * 10\n",
    "    elif letter == \"1\":\n",
    "        value = value * 10 + 1\n",
    "    elif letter == \"2\":\n",
    "        value = value * 10 + 2\n",
    "    elif letter == \"3\":\n",
    "        value = value * 10 + 3\n",
    "    elif letter == \"4\":\n",
    "        value = value * 10 + 4\n",
    "    elif letter == \"5\":\n",
    "        value = value * 10 + 5\n",
    "    elif letter == \"6\":\n",
    "        value = value * 10 + 6\n",
    "    elif letter == \"7\":\n",
    "        value = value * 10 + 7\n",
    "    elif letter == \"8\":\n",
    "        value = value * 10 + 8\n",
    "    elif letter == \"9\":\n",
    "        value = value * 10 + 9\n",
    "    \n",
    "# calculate sign\n",
    "value = sign * value\n",
    "\n",
    "# handle overflow\n",
    "if value > 2147483647:\n",
    "    return 2147483647\n",
    "if value < -2147483648:\n",
    "    return -2147483648\n",
    "\n",
    "return value"
   ]
  },
  {
   "cell_type": "code",
   "execution_count": 72,
   "metadata": {},
   "outputs": [],
   "source": [
    "class Solution:\n",
    "    def myAtoi(self, s: str) -> int:\n",
    "        value = 0\n",
    "        sign = 0\n",
    "        read_digit = False\n",
    "        for letter in s:\n",
    "            # print(letter, value, sign, read_digit)\n",
    "            # ignore whitespace and plus sign\n",
    "            if letter == \" \" and not read_digit and sign == 0:\n",
    "                continue\n",
    "            if letter == \" \" and read_digit:\n",
    "                break\n",
    "            if letter == \" \" and not sign == 0:\n",
    "                break\n",
    "            if letter == \"+\" and sign == 0 and not read_digit:\n",
    "                sign = 1\n",
    "                continue\n",
    "            # check for minus sign\n",
    "            if letter == \"-\" and sign == 0 and not read_digit:\n",
    "                sign = -1\n",
    "                continue\n",
    "            \n",
    "            # find the value\n",
    "            if letter == \"0\":\n",
    "                value = value * 10\n",
    "                read_digit = True\n",
    "                continue\n",
    "            elif letter == \"1\":\n",
    "                value = value * 10 + 1\n",
    "                read_digit = True\n",
    "                continue\n",
    "            elif letter == \"2\":\n",
    "                value = value * 10 + 2\n",
    "                read_digit = True\n",
    "                continue\n",
    "            elif letter == \"3\":\n",
    "                value = value * 10 + 3\n",
    "                read_digit = True\n",
    "                continue\n",
    "            elif letter == \"4\":\n",
    "                value = value * 10 + 4\n",
    "                read_digit = True\n",
    "                continue\n",
    "            elif letter == \"5\":\n",
    "                value = value * 10 + 5\n",
    "                read_digit = True\n",
    "                continue\n",
    "            elif letter == \"6\":\n",
    "                value = value * 10 + 6\n",
    "                read_digit = True\n",
    "                continue\n",
    "            elif letter == \"7\":\n",
    "                value = value * 10 + 7\n",
    "                read_digit = True\n",
    "                continue\n",
    "            elif letter == \"8\":\n",
    "                value = value * 10 + 8\n",
    "                read_digit = True\n",
    "                continue\n",
    "            elif letter == \"9\":\n",
    "                value = value * 10 + 9\n",
    "                read_digit = True\n",
    "                continue\n",
    "            \n",
    "            # handle dot\n",
    "            if letter == \".\":\n",
    "                break\n",
    "            \n",
    "            # everything else stops the loop\n",
    "            break\n",
    "            \n",
    "        # calculate sign\n",
    "        if sign != 0:\n",
    "            value = sign * value\n",
    "\n",
    "        # handle overflow\n",
    "        if value > 2147483647:\n",
    "            return 2147483647\n",
    "        if value < -2147483648:\n",
    "            return -2147483648\n",
    "\n",
    "        return value"
   ]
  },
  {
   "cell_type": "code",
   "execution_count": 73,
   "metadata": {},
   "outputs": [
    {
     "name": "stdout",
     "output_type": "stream",
     "text": [
      "+ 0 0 False\n",
      "  0 1 False\n"
     ]
    },
    {
     "data": {
      "text/plain": [
       "0"
      ]
     },
     "execution_count": 73,
     "metadata": {},
     "output_type": "execute_result"
    }
   ],
   "source": [
    "string = \"+ 11a2 23\"\n",
    "solution = Solution()\n",
    "solution.myAtoi(string)"
   ]
  },
  {
   "cell_type": "code",
   "execution_count": null,
   "metadata": {},
   "outputs": [],
   "source": []
  }
 ],
 "metadata": {
  "interpreter": {
   "hash": "36867ff47f70aa4dbe2e5ace402db8c2a2d836502a56e3d4b679e323f97566da"
  },
  "kernelspec": {
   "display_name": "Python 3.10.2 64-bit ('3.10.2')",
   "language": "python",
   "name": "python3"
  },
  "language_info": {
   "codemirror_mode": {
    "name": "ipython",
    "version": 3
   },
   "file_extension": ".py",
   "mimetype": "text/x-python",
   "name": "python",
   "nbconvert_exporter": "python",
   "pygments_lexer": "ipython3",
   "version": "3.10.2"
  },
  "orig_nbformat": 4
 },
 "nbformat": 4,
 "nbformat_minor": 2
}
