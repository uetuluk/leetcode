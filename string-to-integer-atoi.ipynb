{
 "cells": [
  {
   "cell_type": "markdown",
   "metadata": {},
   "source": [
    "https://leetcode.com/problems/string-to-integer-atoi/"
   ]
  },
  {
   "cell_type": "code",
   "execution_count": null,
   "metadata": {},
   "outputs": [],
   "source": [
    "string = \" -42 \"\n",
    "# simple loop\n",
    "\n",
    "value = 0\n",
    "for letter in string:\n",
    "    # ignored\n",
    "    if letter == \" \" or letter == \"+\":\n",
    "        continue\n",
    "\n",
    "    sign = 1\n",
    "    if letter == \"-\":\n",
    "        sign = -1\n",
    "    \n",
    "    # find the value\n",
    "    if letter == \"0\":\n",
    "        value = value * 10\n",
    "    elif letter == \"1\":\n",
    "        value = value * 10 + 1\n",
    "    elif letter == \"2\":\n",
    "        value = value * 10 + 2\n",
    "    elif letter == \"3\":\n",
    "        value = value * 10 + 3\n",
    "    elif letter == \"4\":\n",
    "        value = value * 10 + 4\n",
    "    elif letter == \"5\":\n",
    "        value = value * 10 + 5\n",
    "    elif letter == \"6\":\n",
    "        value = value * 10 + 6\n",
    "    elif letter == \"7\":\n",
    "        value = value * 10 + 7\n",
    "    elif letter == \"8\":\n",
    "        value = value * 10 + 8\n",
    "    elif letter == \"9\":\n",
    "        value = value * 10 + 9\n",
    "    \n",
    "# calculate sign\n",
    "value = sign * value\n",
    "\n",
    "# handle overflow\n",
    "if value > 2147483647:\n",
    "    return 2147483647\n",
    "if value < -2147483648:\n",
    "    return -2147483648\n",
    "\n",
    "return value"
   ]
  },
  {
   "cell_type": "code",
   "execution_count": 72,
   "metadata": {},
   "outputs": [],
   "source": [
    "class Solution:\n",
    "    def myAtoi(self, s: str) -> int:\n",
    "        value = 0\n",
    "        sign = 0\n",
    "        read_digit = False\n",
    "        for letter in s:\n",
    "            # print(letter, value, sign, read_digit)\n",
    "            # ignore whitespace and plus sign\n",
    "            if letter == \" \" and not read_digit and sign == 0:\n",
    "                continue\n",
    "            if letter == \" \" and read_digit:\n",
    "                break\n",
    "            if letter == \" \" and not sign == 0:\n",
    "                break\n",
    "            if letter == \"+\" and sign == 0 and not read_digit:\n",
    "                sign = 1\n",
    "                continue\n",
    "            # check for minus sign\n",
    "            if letter == \"-\" and sign == 0 and not read_digit:\n",
    "                sign = -1\n",
    "                continue\n",
    "            \n",
    "            # find the value\n",
    "            if letter == \"0\":\n",
    "                value = value * 10\n",
    "                read_digit = True\n",
    "                continue\n",
    "            elif letter == \"1\":\n",
    "                value = value * 10 + 1\n",
    "                read_digit = True\n",
    "                continue\n",
    "            elif letter == \"2\":\n",
    "                value = value * 10 + 2\n",
    "                read_digit = True\n",
    "                continue\n",
    "            elif letter == \"3\":\n",
    "                value = value * 10 + 3\n",
    "                read_digit = True\n",
    "                continue\n",
    "            elif letter == \"4\":\n",
    "                value = value * 10 + 4\n",
    "                read_digit = True\n",
    "                continue\n",
    "            elif letter == \"5\":\n",
    "                value = value * 10 + 5\n",
    "                read_digit = True\n",
    "                continue\n",
    "            elif letter == \"6\":\n",
    "                value = value * 10 + 6\n",
    "                read_digit = True\n",
    "                continue\n",
    "            elif letter == \"7\":\n",
    "                value = value * 10 + 7\n",
    "                read_digit = True\n",
    "                continue\n",
    "            elif letter == \"8\":\n",
    "                value = value * 10 + 8\n",
    "                read_digit = True\n",
    "                continue\n",
    "            elif letter == \"9\":\n",
    "                value = value * 10 + 9\n",
    "                read_digit = True\n",
    "                continue\n",
    "            \n",
    "            # handle dot\n",
    "            if letter == \".\":\n",
    "                break\n",
    "            \n",
    "            # everything else stops the loop\n",
    "            break\n",
    "            \n",
    "        # calculate sign\n",
    "        if sign != 0:\n",
    "            value = sign * value\n",
    "\n",
    "        # handle overflow\n",
    "        if value > 2147483647:\n",
    "            return 2147483647\n",
    "        if value < -2147483648:\n",
    "            return -2147483648\n",
    "\n",
    "        return value"
   ]
  },
  {
   "cell_type": "code",
   "execution_count": 73,
   "metadata": {},
   "outputs": [
    {
     "name": "stdout",
     "output_type": "stream",
     "text": [
      "+ 0 0 False\n",
      "  0 1 False\n"
     ]
    },
    {
     "data": {
      "text/plain": [
       "0"
      ]
     },
     "execution_count": 73,
     "metadata": {},
     "output_type": "execute_result"
    }
   ],
   "source": [
    "string = \"+ 11a2 23\"\n",
    "solution = Solution()\n",
    "solution.myAtoi(string)"
   ]
  },
  {
   "cell_type": "markdown",
   "metadata": {},
   "source": [
    "Simpler version"
   ]
  },
  {
   "cell_type": "code",
   "execution_count": 116,
   "metadata": {},
   "outputs": [],
   "source": [
    "class Solution:\n",
    "    def letterToDigit(self, letter: str) -> int:\n",
    "        if letter == \"0\":\n",
    "            return 0       \n",
    "        elif letter == \"1\":\n",
    "            return 1\n",
    "        elif letter == \"2\":\n",
    "            return 2\n",
    "        elif letter == \"3\":\n",
    "            return 3\n",
    "        elif letter == \"4\":\n",
    "            return 4\n",
    "        elif letter == \"5\":\n",
    "            return 5\n",
    "        elif letter == \"6\":\n",
    "            return 6\n",
    "        elif letter == \"7\":\n",
    "            return 7\n",
    "        elif letter == \"8\":\n",
    "            return 8\n",
    "        elif letter == \"9\":\n",
    "            return 9\n",
    "        return None\n",
    "\n",
    "    def myAtoi(self, s: str) -> int:\n",
    "        value = 0\n",
    "        sign = 1\n",
    "        letter_index = 0\n",
    "\n",
    "        # discard all leading whitespace\n",
    "        while letter_index < len(s) and s[letter_index] == \" \":\n",
    "            letter_index += 1\n",
    "\n",
    "        # find the sign\n",
    "        if letter_index < len(s) and s[letter_index] == \"+\":\n",
    "            letter_index += 1\n",
    "        elif letter_index < len(s) and s[letter_index] == \"-\":\n",
    "            sign = -1\n",
    "            letter_index += 1\n",
    "\n",
    "        # check the rest\n",
    "        while letter_index < len(s):\n",
    "            print(s[letter_index])\n",
    "            # find the value\n",
    "            if self.letterToDigit(s[letter_index]) is not None:\n",
    "                value = value * 10 + self.letterToDigit(s[letter_index])\n",
    "                \n",
    "                # handle overflow\n",
    "                if value * sign > 2147483647:\n",
    "                    return 2147483647\n",
    "                if value * sign < -2147483648:\n",
    "                    return -2147483648\n",
    "                \n",
    "                letter_index += 1\n",
    "            \n",
    "            else:\n",
    "                # everything else stops the loop\n",
    "                break\n",
    "            \n",
    "        # calculate sign\n",
    "        if sign != 0:\n",
    "            value = sign * value\n",
    "\n",
    "\n",
    "        return value"
   ]
  },
  {
   "cell_type": "code",
   "execution_count": 117,
   "metadata": {},
   "outputs": [],
   "source": [
    "if 0:\n",
    "    print(\"A\")"
   ]
  },
  {
   "cell_type": "code",
   "execution_count": 118,
   "metadata": {},
   "outputs": [
    {
     "name": "stdout",
     "output_type": "stream",
     "text": [
      "w\n"
     ]
    },
    {
     "data": {
      "text/plain": [
       "0"
      ]
     },
     "execution_count": 118,
     "metadata": {},
     "output_type": "execute_result"
    }
   ],
   "source": [
    "string = \"words and 987\"\n",
    "solution = Solution()\n",
    "solution.myAtoi(string)"
   ]
  },
  {
   "cell_type": "code",
   "execution_count": 119,
   "metadata": {},
   "outputs": [
    {
     "name": "stdout",
     "output_type": "stream",
     "text": [
      "-\n"
     ]
    },
    {
     "data": {
      "text/plain": [
       "0"
      ]
     },
     "execution_count": 119,
     "metadata": {},
     "output_type": "execute_result"
    }
   ],
   "source": [
    "string = \"+-12\"\n",
    "solution = Solution()\n",
    "solution.myAtoi(string)"
   ]
  },
  {
   "cell_type": "code",
   "execution_count": 120,
   "metadata": {},
   "outputs": [
    {
     "name": "stdout",
     "output_type": "stream",
     "text": [
      "0\n",
      "0\n",
      "0\n",
      "0\n",
      "0\n",
      "-\n"
     ]
    },
    {
     "data": {
      "text/plain": [
       "0"
      ]
     },
     "execution_count": 120,
     "metadata": {},
     "output_type": "execute_result"
    }
   ],
   "source": [
    "string = \"00000-42a1234\"\n",
    "solution = Solution()\n",
    "solution.myAtoi(string)"
   ]
  },
  {
   "cell_type": "code",
   "execution_count": 121,
   "metadata": {},
   "outputs": [
    {
     "name": "stdout",
     "output_type": "stream",
     "text": [
      "3\n",
      ".\n"
     ]
    },
    {
     "data": {
      "text/plain": [
       "3"
      ]
     },
     "execution_count": 121,
     "metadata": {},
     "output_type": "execute_result"
    }
   ],
   "source": [
    "string = \"3.14159\"\n",
    "solution = Solution()\n",
    "solution.myAtoi(string)"
   ]
  },
  {
   "cell_type": "code",
   "execution_count": 122,
   "metadata": {},
   "outputs": [
    {
     "name": "stdout",
     "output_type": "stream",
     "text": [
      "0\n",
      " \n"
     ]
    },
    {
     "data": {
      "text/plain": [
       "0"
      ]
     },
     "execution_count": 122,
     "metadata": {},
     "output_type": "execute_result"
    }
   ],
   "source": [
    "string = \"   +0 123\"\n",
    "solution = Solution()\n",
    "solution.myAtoi(string)"
   ]
  },
  {
   "cell_type": "code",
   "execution_count": 123,
   "metadata": {},
   "outputs": [
    {
     "name": "stdout",
     "output_type": "stream",
     "text": [
      "1\n",
      "a\n"
     ]
    },
    {
     "data": {
      "text/plain": [
       "1"
      ]
     },
     "execution_count": 123,
     "metadata": {},
     "output_type": "execute_result"
    }
   ],
   "source": [
    "string = \"1a\"\n",
    "solution = Solution()\n",
    "solution.myAtoi(string)"
   ]
  },
  {
   "cell_type": "code",
   "execution_count": 124,
   "metadata": {},
   "outputs": [
    {
     "name": "stdout",
     "output_type": "stream",
     "text": [
      " \n"
     ]
    },
    {
     "data": {
      "text/plain": [
       "0"
      ]
     },
     "execution_count": 124,
     "metadata": {},
     "output_type": "execute_result"
    }
   ],
   "source": [
    "string = \"  +  413\"\n",
    "solution = Solution()\n",
    "solution.myAtoi(string)"
   ]
  },
  {
   "cell_type": "code",
   "execution_count": 125,
   "metadata": {},
   "outputs": [
    {
     "name": "stdout",
     "output_type": "stream",
     "text": [
      "9\n",
      "1\n",
      "2\n",
      "8\n",
      "3\n",
      "4\n",
      "7\n",
      "2\n",
      "3\n",
      "3\n"
     ]
    },
    {
     "data": {
      "text/plain": [
       "-2147483648"
      ]
     },
     "execution_count": 125,
     "metadata": {},
     "output_type": "execute_result"
    }
   ],
   "source": [
    "string = \"-91283472332\"\n",
    "solution = Solution()\n",
    "solution.myAtoi(string)"
   ]
  },
  {
   "cell_type": "code",
   "execution_count": 126,
   "metadata": {},
   "outputs": [
    {
     "data": {
      "text/plain": [
       "0"
      ]
     },
     "execution_count": 126,
     "metadata": {},
     "output_type": "execute_result"
    }
   ],
   "source": [
    "string = \"\"\n",
    "solution = Solution()\n",
    "solution.myAtoi(string)"
   ]
  },
  {
   "cell_type": "code",
   "execution_count": 127,
   "metadata": {},
   "outputs": [
    {
     "name": "stdout",
     "output_type": "stream",
     "text": [
      "2\n",
      "1\n",
      "4\n",
      "7\n",
      "4\n",
      "8\n",
      "3\n",
      "6\n",
      "4\n",
      "6\n",
      "0\n"
     ]
    },
    {
     "data": {
      "text/plain": [
       "2147483647"
      ]
     },
     "execution_count": 127,
     "metadata": {},
     "output_type": "execute_result"
    }
   ],
   "source": [
    "string = \"21474836460\"\n",
    "solution = Solution()\n",
    "solution.myAtoi(string)"
   ]
  },
  {
   "cell_type": "code",
   "execution_count": null,
   "metadata": {},
   "outputs": [],
   "source": []
  },
  {
   "cell_type": "code",
   "execution_count": null,
   "metadata": {},
   "outputs": [],
   "source": []
  }
 ],
 "metadata": {
  "interpreter": {
   "hash": "36867ff47f70aa4dbe2e5ace402db8c2a2d836502a56e3d4b679e323f97566da"
  },
  "kernelspec": {
   "display_name": "Python 3.10.2 64-bit ('3.10.2')",
   "language": "python",
   "name": "python3"
  },
  "language_info": {
   "codemirror_mode": {
    "name": "ipython",
    "version": 3
   },
   "file_extension": ".py",
   "mimetype": "text/x-python",
   "name": "python",
   "nbconvert_exporter": "python",
   "pygments_lexer": "ipython3",
   "version": "3.10.2"
  },
  "orig_nbformat": 4
 },
 "nbformat": 4,
 "nbformat_minor": 2
}
