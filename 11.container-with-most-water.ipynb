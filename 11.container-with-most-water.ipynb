{
 "cells": [
  {
   "cell_type": "markdown",
   "metadata": {},
   "source": [
    "https://leetcode.com/problems/container-with-most-water/"
   ]
  },
  {
   "cell_type": "code",
   "execution_count": 28,
   "metadata": {},
   "outputs": [],
   "source": [
    "testcases = [[1,1],[1,8,6,2,5,4,8,3,7], [0,1], [0], [2,3,4]]"
   ]
  },
  {
   "cell_type": "code",
   "execution_count": 29,
   "metadata": {},
   "outputs": [
    {
     "ename": "IndentationError",
     "evalue": "expected an indented block after function definition on line 2 (94417879.py, line 3)",
     "output_type": "error",
     "traceback": [
      "\u001b[0;36m  Input \u001b[0;32mIn [29]\u001b[0;36m\u001b[0m\n\u001b[0;31m    \u001b[0m\n\u001b[0m    ^\u001b[0m\n\u001b[0;31mIndentationError\u001b[0m\u001b[0;31m:\u001b[0m expected an indented block after function definition on line 2\n"
     ]
    }
   ],
   "source": [
    "class Solution:\n",
    "    def maxArea(self, height: List[int]) -> int:\n",
    "        "
   ]
  },
  {
   "cell_type": "markdown",
   "metadata": {},
   "source": [
    "Simply find the maximum height left side and right side with maximum distance in-between\n",
    "Optimize for 3 parameters"
   ]
  },
  {
   "cell_type": "markdown",
   "metadata": {},
   "source": [
    "f(left_index,right_index,distance) = (left_weighted * left_index) * (right_weighted * right_index) * distance -> max\n",
    "\n",
    "left_index < right_index\n",
    "\n",
    "distance = right_index - left_index\n"
   ]
  },
  {
   "cell_type": "markdown",
   "metadata": {},
   "source": [
    "First iteration"
   ]
  },
  {
   "cell_type": "code",
   "execution_count": 32,
   "metadata": {},
   "outputs": [],
   "source": [
    "def maxArea(height: list[int]) -> int:\n",
    "    if len(height) < 2:\n",
    "        return 0\n",
    "\n",
    "    height_weighted = [height[i - 1] / i for i in range(1, len(height) + 1)]\n",
    "    \n",
    "    left_index = 0\n",
    "    right_index = 0\n",
    "    # distance = right_index - left_index\n",
    "\n",
    "    # volume = height[left_index] * height[right_index] * distance\n",
    "\n",
    "    max_volume = 0\n",
    "\n",
    "    for left_index in range(0, len(height) - 1):\n",
    "        for right_index in range(left_index + 1, len(height)):\n",
    "            container_height = min(height_weighted[left_index] * (left_index + 1), height_weighted[right_index] * (right_index + 1))\n",
    "            volume = int(container_height) * (right_index - left_index)\n",
    "            if volume > max_volume:\n",
    "                max_volume = volume\n",
    "                # print(left_index, right_index)\n",
    "    print(max_volume)\n"
   ]
  },
  {
   "cell_type": "code",
   "execution_count": 33,
   "metadata": {},
   "outputs": [
    {
     "name": "stdout",
     "output_type": "stream",
     "text": [
      "1\n",
      "49\n",
      "0\n",
      "4\n"
     ]
    }
   ],
   "source": [
    "for case in testcases:\n",
    "    maxArea(case)"
   ]
  },
  {
   "cell_type": "markdown",
   "metadata": {},
   "source": [
    "It should be turned into a version that is recursive instead. "
   ]
  },
  {
   "cell_type": "code",
   "execution_count": null,
   "metadata": {},
   "outputs": [],
   "source": []
  }
 ],
 "metadata": {
  "kernelspec": {
   "display_name": "Python 3.10.2 64-bit ('3.10.2')",
   "language": "python",
   "name": "python3"
  },
  "language_info": {
   "codemirror_mode": {
    "name": "ipython",
    "version": 3
   },
   "file_extension": ".py",
   "mimetype": "text/x-python",
   "name": "python",
   "nbconvert_exporter": "python",
   "pygments_lexer": "ipython3",
   "version": "3.10.2"
  },
  "orig_nbformat": 4,
  "vscode": {
   "interpreter": {
    "hash": "36867ff47f70aa4dbe2e5ace402db8c2a2d836502a56e3d4b679e323f97566da"
   }
  }
 },
 "nbformat": 4,
 "nbformat_minor": 2
}
