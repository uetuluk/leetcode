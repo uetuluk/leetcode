{
 "cells": [
  {
   "cell_type": "markdown",
   "metadata": {},
   "source": [
    "https://leetcode.com/problems/zigzag-conversion/"
   ]
  },
  {
   "cell_type": "code",
   "execution_count": 8,
   "metadata": {},
   "outputs": [
    {
     "data": {
      "text/plain": [
       "'PAHNAPLSIIGYIR'"
      ]
     },
     "execution_count": 8,
     "metadata": {},
     "output_type": "execute_result"
    }
   ],
   "source": [
    "s = \"PAYPALISHIRING\"\n",
    "numRows = 3\n",
    "\n",
    "result = \"\"\n",
    "result_array = [\"\"] * numRows\n",
    "\n",
    "row_cursor = 0\n",
    "direction = 1 # 1 down, 0 up\n",
    "\n",
    "for i in range(len(s)):\n",
    "    result_array[row_cursor] += s[i]\n",
    "\n",
    "    if (direction == 1):\n",
    "        row_cursor += 1\n",
    "    else:\n",
    "        row_cursor -= 1\n",
    "\n",
    "    if (row_cursor + 1) == numRows:\n",
    "        direction = 0\n",
    "    elif row_cursor == 0:\n",
    "        direction = 1\n",
    "\"\".join(result_array)"
   ]
  },
  {
   "cell_type": "code",
   "execution_count": 12,
   "metadata": {},
   "outputs": [],
   "source": [
    "class Solution:\n",
    "    def convert(self, s: str, numRows: int) -> str:\n",
    "\n",
    "        if numRows == 1:\n",
    "            return s\n",
    "        \n",
    "        result_array = [\"\"] * numRows\n",
    "\n",
    "        row_cursor = 0\n",
    "        direction = 1 # 1 down, 0 up\n",
    "\n",
    "        for i in range(len(s)):\n",
    "            result_array[row_cursor] += s[i]\n",
    "\n",
    "            if (direction == 1):\n",
    "                row_cursor += 1\n",
    "            else:\n",
    "                row_cursor -= 1\n",
    "\n",
    "            if (row_cursor + 1) == numRows:\n",
    "                direction = 0\n",
    "            elif row_cursor == 0:\n",
    "                direction = 1\n",
    "        \n",
    "        return \"\".join(result_array)"
   ]
  },
  {
   "cell_type": "code",
   "execution_count": 20,
   "metadata": {},
   "outputs": [
    {
     "data": {
      "text/plain": [
       "'PAYPALISHIRING'"
      ]
     },
     "execution_count": 20,
     "metadata": {},
     "output_type": "execute_result"
    }
   ],
   "source": [
    "s = \"PAYPALISHIRINGAAAAAAAAAAAAAAAAAAAPAYPALISHIRINGAAAAAAAAAAAAAAAAAAAPAYPALISHIRINGAAAAAAAAAAAAAAAAAAAPAYPALISHIRINGAAAAAAAAAAAAAAAAAAAPAYPALISHIRINGAAAAAAAAAAAAAAAAAAAPAYPALISHIRINGAAAAAAAAAAAAAAAAAAAPAYPALISHIRINGAAAAAAAAAAAAAAAAAAAPAYPALISHIRINGAAAAAAAAAAAAAAAAAAAPAYPALISHIRINGAAAAAAAAAAAAAAAAAAA\"\n",
    "numRows = 1000\n",
    "solution = Solution()\n",
    "solution.convert(s, numRows)"
   ]
  },
  {
   "cell_type": "code",
   "execution_count": null,
   "metadata": {},
   "outputs": [],
   "source": []
  }
 ],
 "metadata": {
  "interpreter": {
   "hash": "36867ff47f70aa4dbe2e5ace402db8c2a2d836502a56e3d4b679e323f97566da"
  },
  "kernelspec": {
   "display_name": "Python 3.10.2 64-bit ('3.10.2')",
   "language": "python",
   "name": "python3"
  },
  "language_info": {
   "codemirror_mode": {
    "name": "ipython",
    "version": 3
   },
   "file_extension": ".py",
   "mimetype": "text/x-python",
   "name": "python",
   "nbconvert_exporter": "python",
   "pygments_lexer": "ipython3",
   "version": "3.10.2"
  },
  "orig_nbformat": 4
 },
 "nbformat": 4,
 "nbformat_minor": 2
}
