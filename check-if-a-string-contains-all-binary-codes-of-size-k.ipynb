{
 "cells": [
  {
   "cell_type": "markdown",
   "metadata": {},
   "source": [
    "https://leetcode.com/problems/check-if-a-string-contains-all-binary-codes-of-size-k/"
   ]
  },
  {
   "cell_type": "markdown",
   "metadata": {},
   "source": [
    "Find all possible k substrings -> use recursive"
   ]
  },
  {
   "cell_type": "code",
   "execution_count": 12,
   "metadata": {},
   "outputs": [
    {
     "data": {
      "text/plain": [
       "'11111111111111111111'"
      ]
     },
     "execution_count": 12,
     "metadata": {},
     "output_type": "execute_result"
    }
   ],
   "source": [
    "def substring_finder_helper(location: int, substring: str, length: int, substring_list: list[str]) -> list[str]:\n",
    "    if location == length:\n",
    "        substring_list.append(substring)\n",
    "    else:\n",
    "        substring_finder_helper(location + 1, substring + \"0\", length, substring_list)\n",
    "        substring_finder_helper(location + 1, substring + \"1\", length, substring_list)\n",
    "    \n",
    "    return substring_list\n",
    "\n",
    "def substring_finder(length: int) -> list[str]:\n",
    "    substring_list = []\n",
    "    return substring_finder_helper(0, \"\", length, substring_list)\n",
    "\n",
    "k = 20\n",
    "\n",
    "substring_list = substring_finder(k)"
   ]
  },
  {
   "cell_type": "markdown",
   "metadata": {},
   "source": [
    "Check for all the cases whether the values are inside"
   ]
  },
  {
   "cell_type": "code",
   "execution_count": null,
   "metadata": {},
   "outputs": [],
   "source": [
    "def KMPSearch(pat, txt):\n",
    "    M = len(pat)\n",
    "    N = len(txt)\n",
    "  \n",
    "    # create lps[] that will hold the longest prefix suffix \n",
    "    # values for pattern\n",
    "    lps = [0]*M\n",
    "    j = 0 # index for pat[]\n",
    "  \n",
    "    # Preprocess the pattern (calculate lps[] array)\n",
    "    computeLPSArray(pat, M, lps)\n",
    "  \n",
    "    i = 0 # index for txt[]\n",
    "    while i < N:\n",
    "        if pat[j] == txt[i]:\n",
    "            i += 1\n",
    "            j += 1\n",
    "  \n",
    "        if j == M:\n",
    "            print (\"Found pattern at index \" + str(i-j))\n",
    "            j = lps[j-1]\n",
    "  \n",
    "        # mismatch after j matches\n",
    "        elif i < N and pat[j] != txt[i]:\n",
    "            # Do not match lps[0..lps[j-1]] characters,\n",
    "            # they will match anyway\n",
    "            if j != 0:\n",
    "                j = lps[j-1]\n",
    "            else:\n",
    "                i += 1\n",
    "  \n",
    "def computeLPSArray(pat, M, lps):\n",
    "    len = 0 # length of the previous longest prefix suffix\n",
    "  \n",
    "    lps[0] # lps[0] is always 0\n",
    "    i = 1\n",
    "  \n",
    "    # the loop calculates lps[i] for i = 1 to M-1\n",
    "    while i < M:\n",
    "        if pat[i]== pat[len]:\n",
    "            len += 1\n",
    "            lps[i] = len\n",
    "            i += 1\n",
    "        else:\n",
    "            # This is tricky. Consider the example.\n",
    "            # AAACAAAA and i = 7. The idea is similar \n",
    "            # to search step.\n",
    "            if len != 0:\n",
    "                len = lps[len-1]\n",
    "  \n",
    "                # Also, note that we do not increment i here\n",
    "            else:\n",
    "                lps[i] = 0\n",
    "                i += 1"
   ]
  },
  {
   "cell_type": "code",
   "execution_count": 43,
   "metadata": {},
   "outputs": [],
   "source": [
    "class Solution:\n",
    "    def substring_finder_helper(self, location: int, substring: str, length: int, substring_list_helper: list[str]) -> list[str]:\n",
    "        if location == length:\n",
    "            substring_list_helper.append(substring)\n",
    "        else:\n",
    "            self.substring_finder_helper(location + 1, substring + \"0\", length, substring_list_helper)\n",
    "            self.substring_finder_helper(location + 1, substring + \"1\", length, substring_list_helper)\n",
    "        \n",
    "        return substring_list_helper\n",
    "\n",
    "    def substring_finder(self, length: int) -> list[str]:\n",
    "        substring_list_finder = []\n",
    "        return self.substring_finder_helper(0, \"\", length, substring_list_finder)\n",
    "\n",
    "    def KMPSearch(self, pat, txt):\n",
    "        M = len(pat)\n",
    "        N = len(txt)\n",
    "    \n",
    "        # create lps[] that will hold the longest prefix suffix \n",
    "        # values for pattern\n",
    "        lps = [0]*M\n",
    "        j = 0 # index for pat[]\n",
    "    \n",
    "        # Preprocess the pattern (calculate lps[] array)\n",
    "        self.computeLPSArray(pat, M, lps)\n",
    "    \n",
    "        i = 0 # index for txt[]\n",
    "        while i < N:\n",
    "            if pat[j] == txt[i]:\n",
    "                i += 1\n",
    "                j += 1\n",
    "    \n",
    "            if j == M:\n",
    "                return 1\n",
    "                j = lps[j-1]\n",
    "    \n",
    "            # mismatch after j matches\n",
    "            elif i < N and pat[j] != txt[i]:\n",
    "                # Do not match lps[0..lps[j-1]] characters,\n",
    "                # they will match anyway\n",
    "                if j != 0:\n",
    "                    j = lps[j-1]\n",
    "                else:\n",
    "                    i += 1\n",
    "        \n",
    "        return -1\n",
    "    \n",
    "    def computeLPSArray(self, pat, M, lps):\n",
    "        len = 0 # length of the previous longest prefix suffix\n",
    "    \n",
    "        lps[0] # lps[0] is always 0\n",
    "        i = 1\n",
    "    \n",
    "        # the loop calculates lps[i] for i = 1 to M-1\n",
    "        while i < M:\n",
    "            if pat[i]== pat[len]:\n",
    "                len += 1\n",
    "                lps[i] = len\n",
    "                i += 1\n",
    "            else:\n",
    "                # This is tricky. Consider the example.\n",
    "                # AAACAAAA and i = 7. The idea is similar \n",
    "                # to search step.\n",
    "                if len != 0:\n",
    "                    len = lps[len-1]\n",
    "    \n",
    "                    # Also, note that we do not increment i here\n",
    "                else:\n",
    "                    lps[i] = 0\n",
    "                    i += 1\n",
    "\n",
    "    def hasAllCodes(self, s: str, k: int) -> bool:\n",
    "        substring_list = self.substring_finder(k)\n",
    "        \n",
    "        for substring in substring_list:\n",
    "            # print(substring)\n",
    "            result = self.KMPSearch(substring, s)\n",
    "            # print(result)\n",
    "            if result == -1:\n",
    "                return False\n",
    "        \n",
    "        return True"
   ]
  },
  {
   "cell_type": "code",
   "execution_count": 44,
   "metadata": {},
   "outputs": [
    {
     "data": {
      "text/plain": [
       "False"
      ]
     },
     "execution_count": 44,
     "metadata": {},
     "output_type": "execute_result"
    }
   ],
   "source": [
    "s = \"0110\"\n",
    "k = 2\n",
    "solution = Solution()\n",
    "solution.hasAllCodes(s,k)"
   ]
  },
  {
   "cell_type": "code",
   "execution_count": null,
   "metadata": {},
   "outputs": [],
   "source": []
  }
 ],
 "metadata": {
  "interpreter": {
   "hash": "36867ff47f70aa4dbe2e5ace402db8c2a2d836502a56e3d4b679e323f97566da"
  },
  "kernelspec": {
   "display_name": "Python 3.10.2 64-bit ('3.10.2')",
   "language": "python",
   "name": "python3"
  },
  "language_info": {
   "codemirror_mode": {
    "name": "ipython",
    "version": 3
   },
   "file_extension": ".py",
   "mimetype": "text/x-python",
   "name": "python",
   "nbconvert_exporter": "python",
   "pygments_lexer": "ipython3",
   "version": "3.10.2"
  },
  "orig_nbformat": 4
 },
 "nbformat": 4,
 "nbformat_minor": 2
}
