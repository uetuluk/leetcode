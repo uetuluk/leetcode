{
 "cells": [
  {
   "cell_type": "markdown",
   "metadata": {},
   "source": [
    "https://leetcode.com/problems/longest-palindromic-substring/"
   ]
  },
  {
   "cell_type": "code",
   "execution_count": null,
   "metadata": {},
   "outputs": [],
   "source": []
  },
  {
   "cell_type": "markdown",
   "metadata": {},
   "source": [
    "Simply check all substrings from largest to smallest"
   ]
  },
  {
   "cell_type": "code",
   "execution_count": 67,
   "metadata": {},
   "outputs": [],
   "source": [
    "class Solution:\n",
    "    def checkPalindrome(self, s: str) -> bool:\n",
    "        for i in range(len(s) // 2):\n",
    "            if s[i] != s[-1 - i]:\n",
    "                return False\n",
    "        return True\n",
    "        \n",
    "    def longestPalindrome(self, s: str) -> str:\n",
    "        # Find all elements with length k\n",
    "\n",
    "        # Handle outliers\n",
    "        if len(s) == 0 or len(s) == 1:\n",
    "            return s\n",
    "\n",
    "        for k in range(len(s), 0, -1):\n",
    "            for i in range(len(s)-k+1):\n",
    "                substring = s[i:i+k]\n",
    "                if self.checkPalindrome(substring):\n",
    "                    return substring\n",
    "        \n",
    "        return \"\""
   ]
  },
  {
   "cell_type": "code",
   "execution_count": 72,
   "metadata": {},
   "outputs": [],
   "source": [
    "string = \"aaaaaaaaaaaaaaaaaaaaaaaaaaaaaaaaaaaaaaaaaaaaaaaaaaaaaaaaaaaaaaaaaaaaaaaaaaaaaaaaaaaaaaaaaaaaaaaaaaaaaaaaaaaaaaaaaaaaaaaaaaaaaaaaaaaaaaaaaaaaaaaaaaaaaaaaaaaaaaaaaaaaaaaaaaaaaaaaaaaaaaaaaaaaaaaaaaaaaaaaaaaaaaaaaaaaaaaaaaaaaaaaaaaaaaaaaaaaaaaaaaaaaaaaaaaaaaaaaaaaaaaaaaaaaaaaaaaaaaaaaaaaaaaaaaaaaaaaaaaaaaaaaaaaaaaaaaaaaaaaaaaaaaaaaaaaaaaaaaaaaaaaaaaaaaaaaaaaaaaaaaaaaaaaaaaaaaaaaaaaaaaaaaaaaaaaaaaaaaaaaaaaaaaaaaaaaaaaaaaaaaaaaaaaaaaaaaaaaaaaaaaaaaaaaaaaaaaaaaaaaaaaaaaaaaaaaaaaaaaaaaaaaaaaaaaaaaaaaaaabcaaaaaaaaaaaaaaaaaaaaaaaaaaaaaaaaaaaaaaaaaaaaaaaaaaaaaaaaaaaaaaaaaaaaaaaaaaaaaaaaaaaaaaaaaaaaaaaaaaaaaaaaaaaaaaaaaaaaaaaaaaaaaaaaaaaaaaaaaaaaaaaaaaaaaaaaaaaaaaaaaaaaaaaaaaaaaaaaaaaaaaaaaaaaaaaaaaaaaaaaaaaaaaaaaaaaaaaaaaaaaaaaaaaaaaaaaaaaaaaaaaaaaaaaaaaaaaaaaaaaaaaaaaaaaaaaaaaaaaaaaaaaaaaaaaaaaaaaaaaaaaaaaaaaaaaaaaaaaaaaaaaaaaaaaaaaaaaaaaaaaaaaaaaaaaaaaaaaaaaaaaaaaaaaaaaaaaaaaaaaaaaaaaaaaaaaaaaaaaaaaaaaaaaaaaaaaaaaaaaaaaaaaaaaaaaaaaaaaaaaaaaaaaaaaaaaaaaaaaaaaaaaaaaaaaaaaaaaaaaaaaaaaaaaaaaaaaaaaa\""
   ]
  },
  {
   "cell_type": "code",
   "execution_count": 73,
   "metadata": {},
   "outputs": [
    {
     "data": {
      "text/plain": [
       "'aaaaaaaaaaaaaaaaaaaaaaaaaaaaaaaaaaaaaaaaaaaaaaaaaaaaaaaaaaaaaaaaaaaaaaaaaaaaaaaaaaaaaaaaaaaaaaaaaaaaaaaaaaaaaaaaaaaaaaaaaaaaaaaaaaaaaaaaaaaaaaaaaaaaaaaaaaaaaaaaaaaaaaaaaaaaaaaaaaaaaaaaaaaaaaaaaaaaaaaaaaaaaaaaaaaaaaaaaaaaaaaaaaaaaaaaaaaaaaaaaaaaaaaaaaaaaaaaaaaaaaaaaaaaaaaaaaaaaaaaaaaaaaaaaaaaaaaaaaaaaaaaaaaaaaaaaaaaaaaaaaaaaaaaaaaaaaaaaaaaaaaaaaaaaaaaaaaaaaaaaaaaaaaaaaaaaaaaaaaaaaaaaaaaaaaaaaaaaaaaaaaaaaaaaaaaaaaaaaaaaaaaaaaaaaaaaaaaaaaaaaaaaaaaaaaaaaaaaaaaaaaaaaaaaaaaaaaaaaaaaaaaaaaaaaaaaaaaaaaa'"
      ]
     },
     "execution_count": 73,
     "metadata": {},
     "output_type": "execute_result"
    }
   ],
   "source": [
    "solution = Solution()\n",
    "solution.longestPalindrome(string)"
   ]
  },
  {
   "cell_type": "code",
   "execution_count": 32,
   "metadata": {},
   "outputs": [
    {
     "data": {
      "text/plain": [
       "True"
      ]
     },
     "execution_count": 32,
     "metadata": {},
     "output_type": "execute_result"
    }
   ],
   "source": [
    "solution.checkPalindrome(\"a\")"
   ]
  },
  {
   "cell_type": "code",
   "execution_count": 38,
   "metadata": {},
   "outputs": [
    {
     "data": {
      "text/plain": [
       "'bb'"
      ]
     },
     "execution_count": 38,
     "metadata": {},
     "output_type": "execute_result"
    }
   ],
   "source": [
    "s = \"bb\"\n",
    "s[0:2]"
   ]
  },
  {
   "cell_type": "markdown",
   "metadata": {},
   "source": [
    "Manacher's algorithm"
   ]
  },
  {
   "cell_type": "code",
   "execution_count": 52,
   "metadata": {},
   "outputs": [],
   "source": [
    "string = \"abcba\""
   ]
  },
  {
   "cell_type": "code",
   "execution_count": 66,
   "metadata": {},
   "outputs": [
    {
     "data": {
      "text/plain": [
       "4"
      ]
     },
     "execution_count": 66,
     "metadata": {},
     "output_type": "execute_result"
    }
   ],
   "source": [
    "string = \"abcba\"\n",
    "# find s'\n",
    "string_bogus = '|'.join(list(string))\n",
    "\n",
    "# radii\n",
    "radii = [0] * len(string_bogus)\n",
    "\n",
    "center = 0\n",
    "radius = 0\n",
    "\n",
    "while center < len(string_bogus):\n",
    "    \n",
    "    while (center - (radius + 1) >= 0) and (center + (radius + 1) < len(string_bogus)) and (string_bogus[center - (radius + 1)] == string_bogus[center + (radius + 1)]):\n",
    "        radius+= 1\n",
    "\n",
    "    radii[center] = radius\n",
    "\n",
    "    center_old = center\n",
    "    radius_old = radius\n",
    "\n",
    "    center += 1\n",
    "    radius = 0\n",
    "\n",
    "    while center <= (center_old + radius_old):\n",
    "\n",
    "        center_mirrored = center_old + center_old - center\n",
    "        radius_mirrored_max = center_old + radius_old - center\n",
    "\n",
    "        if radii[center_mirrored] < radius_mirrored_max:\n",
    "            radii[center] = radii[center_mirrored]\n",
    "            center = center + 1\n",
    "   \n",
    "        elif radii[center_mirrored] > radius_mirrored_max:\n",
    "            radii[center] = radius_mirrored_max\n",
    "            center = center + 1\n",
    "        \n",
    "        else: # radii[center_mirrored] = radius_mirrored_max\n",
    "            radius = radius_mirrored_max\n",
    "            break  \n",
    "    \n",
    "longest_palindrome_in_string_bogus = 2 * max(radii) + 1\n",
    "\n",
    "longest_palindrome_in_string = (longest_palindrome_in_string_bogus - 1 ) // 2\n",
    "\n",
    "radii\n",
    "longest_palindrome_in_string\n"
   ]
  },
  {
   "cell_type": "code",
   "execution_count": 59,
   "metadata": {},
   "outputs": [
    {
     "data": {
      "text/plain": [
       "'a|b|c|b|a'"
      ]
     },
     "execution_count": 59,
     "metadata": {},
     "output_type": "execute_result"
    }
   ],
   "source": [
    "string_bogus"
   ]
  },
  {
   "cell_type": "code",
   "execution_count": 58,
   "metadata": {},
   "outputs": [
    {
     "data": {
      "text/plain": [
       "['a', 'b', 'c', 'b', 'a']"
      ]
     },
     "execution_count": 58,
     "metadata": {},
     "output_type": "execute_result"
    }
   ],
   "source": []
  },
  {
   "cell_type": "markdown",
   "metadata": {},
   "source": [
    "Line Traversal"
   ]
  },
  {
   "cell_type": "code",
   "execution_count": 84,
   "metadata": {},
   "outputs": [],
   "source": [
    "class Solution:\n",
    "    def longestPalindrome(self, s: str) -> str:\n",
    "        \n",
    "        string_length = len(s)\n",
    "\n",
    "        cursor_odd = 0\n",
    "        cursor_even = 0\n",
    "        substring = (0,0)\n",
    "\n",
    "        # traverse odd\n",
    "        while cursor_odd < string_length:\n",
    "            left = cursor_odd\n",
    "            right = cursor_odd\n",
    "\n",
    "            while (left >= 0 and right < string_length and s[left] == s[right]):\n",
    "                left -= 1\n",
    "                right += 1\n",
    "            \n",
    "            left += 1\n",
    "            right -= 1\n",
    "\n",
    "            if left < 0 and right > string_length:\n",
    "                left += 1\n",
    "                right -= 1\n",
    "\n",
    "            current_substring_length = substring[1] - substring[0] + 1\n",
    "\n",
    "            if ((right - left + 1) > current_substring_length):\n",
    "                substring = (left, right)\n",
    "            \n",
    "            cursor_odd += 1\n",
    "        \n",
    "        # traverse even\n",
    "        while cursor_even < string_length:\n",
    "            left = cursor_even - 1\n",
    "            right = cursor_even\n",
    "\n",
    "            while (left >= 0 and right < string_length and s[left] == s[right]):\n",
    "                left -= 1\n",
    "                right += 1\n",
    "            \n",
    "            left += 1\n",
    "            right -= 1\n",
    "\n",
    "            if left < 0 and right > string_length:\n",
    "                left += 1\n",
    "                right -= 1\n",
    "\n",
    "            current_substring_length = substring[1] - substring[0] + 1\n",
    "\n",
    "            if ((right - left + 1) > current_substring_length):\n",
    "                substring = (left, right)\n",
    "            \n",
    "            cursor_even += 1\n",
    "\n",
    "        return s[substring[0]:substring[1]+1]\n"
   ]
  },
  {
   "cell_type": "code",
   "execution_count": 89,
   "metadata": {},
   "outputs": [
    {
     "data": {
      "text/plain": [
       "'abcba'"
      ]
     },
     "execution_count": 89,
     "metadata": {},
     "output_type": "execute_result"
    }
   ],
   "source": [
    "solution = Solution()\n",
    "solution.longestPalindrome(\"abcba\")"
   ]
  },
  {
   "cell_type": "code",
   "execution_count": null,
   "metadata": {},
   "outputs": [],
   "source": []
  }
 ],
 "metadata": {
  "interpreter": {
   "hash": "36867ff47f70aa4dbe2e5ace402db8c2a2d836502a56e3d4b679e323f97566da"
  },
  "kernelspec": {
   "display_name": "Python 3.10.2 64-bit ('3.10.2')",
   "language": "python",
   "name": "python3"
  },
  "language_info": {
   "codemirror_mode": {
    "name": "ipython",
    "version": 3
   },
   "file_extension": ".py",
   "mimetype": "text/x-python",
   "name": "python",
   "nbconvert_exporter": "python",
   "pygments_lexer": "ipython3",
   "version": "3.10.2"
  },
  "orig_nbformat": 4
 },
 "nbformat": 4,
 "nbformat_minor": 2
}
