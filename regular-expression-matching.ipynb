{
 "cells": [
  {
   "cell_type": "markdown",
   "metadata": {},
   "source": [
    "https://leetcode.com/problems/regular-expression-matching/"
   ]
  },
  {
   "cell_type": "code",
   "execution_count": 3,
   "metadata": {},
   "outputs": [
    {
     "ename": "IndentationError",
     "evalue": "expected an indented block after function definition on line 2 (3355217075.py, line 3)",
     "output_type": "error",
     "traceback": [
      "\u001b[0;36m  Input \u001b[0;32mIn [3]\u001b[0;36m\u001b[0m\n\u001b[0;31m    \u001b[0m\n\u001b[0m    ^\u001b[0m\n\u001b[0;31mIndentationError\u001b[0m\u001b[0;31m:\u001b[0m expected an indented block after function definition on line 2\n"
     ]
    }
   ],
   "source": [
    "class Solution:\n",
    "    def isMatch(self, s: str, p: str) -> bool:\n",
    "        "
   ]
  },
  {
   "cell_type": "code",
   "execution_count": 42,
   "metadata": {},
   "outputs": [],
   "source": [
    "testcases = [(\"aa\", \"a\"), (\"aa\", \"a*\"), (\"ab\", \".*\"), (\"abc\", \"a.c\"), (\"abbbbbc\", \"a.*c\"), (\"aab\", \"c*a*b\"), (\"ab\", \".*c\"), (\"aaa\",\n",
    "\"ab*a*c*a\"), (\"aaa\",\"aaaa\")]"
   ]
  },
  {
   "cell_type": "markdown",
   "metadata": {},
   "source": [
    "Use a queue to process the regex\n",
    "- a * character should create a placeholder that holds the previous character -> get from the queue without popping until not the character, then check the next one\n",
    "- a . character should be stored as is and pass everything once -> pop from the queue"
   ]
  },
  {
   "cell_type": "code",
   "execution_count": 55,
   "metadata": {},
   "outputs": [],
   "source": [
    "def isMatch(s: str, p:str) -> bool:\n",
    "    # place the pattern in a queue\n",
    "    p_queue = []\n",
    "    star_queue = []\n",
    "    for p_char in p:\n",
    "        if p_char == \"*\":\n",
    "            star_queue.append(p_queue[-1])\n",
    "            # print(p_queue, star_queue)\n",
    "            p_queue.pop()\n",
    "        p_queue.append(p_char)\n",
    "    \n",
    "    # print(p_queue, star_queue)\n",
    "\n",
    "    # go through the string\n",
    "    index = len(s) - 1\n",
    "    while(index > -1):\n",
    "        if len(p_queue) == 0:\n",
    "            return False\n",
    "        p_cursor = p_queue[-1]\n",
    "        # print(index)\n",
    "        # print(p_cursor)\n",
    "        \n",
    "        # handle .\n",
    "        if p_cursor == \".\":\n",
    "            p_queue.pop()\n",
    "            index -= 1\n",
    "\n",
    "        # handle *\n",
    "        elif p_cursor == \"*\":\n",
    "            star_cursor = star_queue[-1]\n",
    "\n",
    "            if s[index] == star_cursor or star_cursor == \".\":\n",
    "                index -= 1\n",
    "                if (index == -1):\n",
    "                    p_queue.pop()\n",
    "                    star_queue.pop()\n",
    "            else:\n",
    "                p_queue.pop()\n",
    "                star_queue.pop()\n",
    "        \n",
    "        # handle other chars\n",
    "        elif p_cursor == s[index]:\n",
    "            p_queue.pop()\n",
    "            index -= 1\n",
    "        else:\n",
    "            # print(\"false\")\n",
    "            return False\n",
    "    \n",
    "    print(len(p_queue))\n",
    "    if (len(p_queue) > 0):\n",
    "        return False\n",
    "            \n",
    "    # print(\"true\")\n",
    "    return True\n"
   ]
  },
  {
   "cell_type": "code",
   "execution_count": 56,
   "metadata": {},
   "outputs": [
    {
     "name": "stdout",
     "output_type": "stream",
     "text": [
      "1\n",
      "aaa aaaa False\n"
     ]
    }
   ],
   "source": [
    "case = testcases[-1]\n",
    "print(case[0], case[1], isMatch(case[0],case[1]))"
   ]
  },
  {
   "cell_type": "code",
   "execution_count": 57,
   "metadata": {},
   "outputs": [
    {
     "name": "stdout",
     "output_type": "stream",
     "text": [
      "aa a False\n",
      "0\n",
      "aa a* True\n",
      "0\n",
      "ab .* True\n",
      "0\n",
      "abc a.c True\n",
      "1\n",
      "abbbbbc a.*c False\n",
      "1\n",
      "aab c*a*b False\n",
      "ab .*c False\n",
      "2\n",
      "aaa ab*a*c*a False\n",
      "1\n",
      "aaa aaaa False\n"
     ]
    }
   ],
   "source": [
    "for case in testcases:\n",
    "    print(case[0], case[1], isMatch(case[0],case[1]))"
   ]
  },
  {
   "cell_type": "code",
   "execution_count": null,
   "metadata": {},
   "outputs": [],
   "source": []
  },
  {
   "cell_type": "code",
   "execution_count": null,
   "metadata": {},
   "outputs": [],
   "source": []
  },
  {
   "cell_type": "markdown",
   "metadata": {},
   "source": [
    "Easy solution"
   ]
  },
  {
   "cell_type": "code",
   "execution_count": 60,
   "metadata": {},
   "outputs": [],
   "source": [
    "def isMatch(s: str, p:str) -> bool:\n",
    "    if not p:\n",
    "        return not s\n",
    "    \n",
    "    first_match = bool(s) and p[0] in {s[0], '.'}\n",
    "    \n",
    "    if len(p) >= 2 and p[1] == '*':\n",
    "        return (isMatch(s, p[2:]) or\n",
    "                first_match and isMatch(s[1:], p))\n",
    "\n",
    "    else:\n",
    "        return first_match and isMatch(s[1:], p[1:])"
   ]
  },
  {
   "cell_type": "code",
   "execution_count": 61,
   "metadata": {},
   "outputs": [
    {
     "name": "stdout",
     "output_type": "stream",
     "text": [
      "aa a False\n",
      "aa a* True\n",
      "ab .* True\n",
      "abc a.c True\n",
      "abbbbbc a.*c True\n",
      "aab c*a*b True\n",
      "ab .*c False\n",
      "aaa ab*a*c*a True\n",
      "aaa aaaa False\n"
     ]
    }
   ],
   "source": [
    "for case in testcases:\n",
    "    print(case[0], case[1], isMatch(case[0],case[1]))"
   ]
  },
  {
   "cell_type": "code",
   "execution_count": null,
   "metadata": {},
   "outputs": [],
   "source": []
  }
 ],
 "metadata": {
  "kernelspec": {
   "display_name": "Python 3.10.2 64-bit ('3.10.2')",
   "language": "python",
   "name": "python3"
  },
  "language_info": {
   "codemirror_mode": {
    "name": "ipython",
    "version": 3
   },
   "file_extension": ".py",
   "mimetype": "text/x-python",
   "name": "python",
   "nbconvert_exporter": "python",
   "pygments_lexer": "ipython3",
   "version": "3.10.2"
  },
  "orig_nbformat": 4,
  "vscode": {
   "interpreter": {
    "hash": "36867ff47f70aa4dbe2e5ace402db8c2a2d836502a56e3d4b679e323f97566da"
   }
  }
 },
 "nbformat": 4,
 "nbformat_minor": 2
}
