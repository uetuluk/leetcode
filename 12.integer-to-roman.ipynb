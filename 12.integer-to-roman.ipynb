{
 "cells": [
  {
   "cell_type": "markdown",
   "metadata": {},
   "source": [
    "https://leetcode.com/problems/integer-to-roman/"
   ]
  },
  {
   "cell_type": "code",
   "execution_count": null,
   "metadata": {},
   "outputs": [],
   "source": [
    "class Solution:\n",
    "    def intToRoman(self, num: int) -> str:\n",
    "        "
   ]
  },
  {
   "cell_type": "code",
   "execution_count": 11,
   "metadata": {},
   "outputs": [],
   "source": [
    "testcases = [3, 58, 1994, 1440, 1200, 10001, 1600]"
   ]
  },
  {
   "cell_type": "code",
   "execution_count": 30,
   "metadata": {},
   "outputs": [],
   "source": [
    "def intToRoman(num: int) -> str:\n",
    "    def romanDigitConverter(number: int, single_number: int, single: str, fiver: str, ten: str) -> str:\n",
    "        number = (number % (single_number * 10)) // single_number\n",
    "        digit = \"\"\n",
    "        if number == 9:\n",
    "            digit += single + ten\n",
    "        elif number >= 5:\n",
    "            digit += fiver + (number - 5) * single\n",
    "        elif number == 4:\n",
    "            digit += single + fiver\n",
    "        else:\n",
    "            digit += number * single\n",
    "        return digit\n",
    "\n",
    "    roman = \"\"\n",
    "\n",
    "    # M\n",
    "    roman += (num // 1000) * \"M\"\n",
    "    \n",
    "    # C\n",
    "    roman += romanDigitConverter(num, 100, \"C\", \"D\", \"M\")\n",
    "\n",
    "    # X\n",
    "    roman += romanDigitConverter(num, 10, \"X\", \"L\", \"C\")\n",
    "\n",
    "    # I\n",
    "    roman += romanDigitConverter(num, 1, \"I\", \"V\", \"X\")\n",
    "\n",
    "    print(roman)\n"
   ]
  },
  {
   "cell_type": "code",
   "execution_count": 31,
   "metadata": {},
   "outputs": [
    {
     "name": "stdout",
     "output_type": "stream",
     "text": [
      "III\n",
      "LVIII\n",
      "MCMXCIV\n",
      "MCDXL\n",
      "MCC\n",
      "MMMMMMMMMMI\n",
      "MDC\n"
     ]
    }
   ],
   "source": [
    "for case in testcases:\n",
    "    intToRoman(case)"
   ]
  },
  {
   "cell_type": "code",
   "execution_count": null,
   "metadata": {},
   "outputs": [],
   "source": []
  }
 ],
 "metadata": {
  "kernelspec": {
   "display_name": "Python 3.10.2 64-bit ('3.10.2')",
   "language": "python",
   "name": "python3"
  },
  "language_info": {
   "codemirror_mode": {
    "name": "ipython",
    "version": 3
   },
   "file_extension": ".py",
   "mimetype": "text/x-python",
   "name": "python",
   "nbconvert_exporter": "python",
   "pygments_lexer": "ipython3",
   "version": "3.10.2"
  },
  "orig_nbformat": 4,
  "vscode": {
   "interpreter": {
    "hash": "36867ff47f70aa4dbe2e5ace402db8c2a2d836502a56e3d4b679e323f97566da"
   }
  }
 },
 "nbformat": 4,
 "nbformat_minor": 2
}
