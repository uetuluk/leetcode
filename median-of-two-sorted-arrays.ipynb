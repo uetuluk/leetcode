{
 "cells": [
  {
   "cell_type": "markdown",
   "metadata": {},
   "source": [
    "https://leetcode.com/problems/median-of-two-sorted-arrays/"
   ]
  },
  {
   "cell_type": "code",
   "execution_count": null,
   "metadata": {},
   "outputs": [],
   "source": [
    "merge "
   ]
  },
  {
   "cell_type": "code",
   "execution_count": 5,
   "metadata": {},
   "outputs": [
    {
     "data": {
      "text/plain": [
       "[1, 1, 2, 6, 11, 13, 15, 17, 20]"
      ]
     },
     "execution_count": 5,
     "metadata": {},
     "output_type": "execute_result"
    }
   ],
   "source": [
    "a1 = [1, 2, 11, 15, 17]\n",
    "a2 = [1, 6, 13, 20]\n",
    "a3 = a1 + a2\n",
    "a3.sort()\n",
    "a3"
   ]
  },
  {
   "cell_type": "code",
   "execution_count": null,
   "metadata": {},
   "outputs": [],
   "source": [
    "class Solution:\n",
    "    def mergeSearch(array: List[int], start: int, end: int):\n",
    "        if start > end:\n",
    "            return\n",
    "        median = (start + end) / 2\n",
    "        \n",
    "        mergeSort(array, start, median)\n",
    "        mergeSort(array, median + 1, end)\n",
    "\n",
    "\n",
    "    def findMedianSortedArrays(self, nums1: List[int], nums2: List[int]) -> float:\n"
   ]
  },
  {
   "cell_type": "code",
   "execution_count": null,
   "metadata": {},
   "outputs": [],
   "source": [
    "nums1 = [1,3]\n",
    "nums2 = [2]\n",
    "solution = Solution()\n",
    "solution.findMedianSortedArrays(nums1, nums2)"
   ]
  }
 ],
 "metadata": {
  "interpreter": {
   "hash": "36867ff47f70aa4dbe2e5ace402db8c2a2d836502a56e3d4b679e323f97566da"
  },
  "kernelspec": {
   "display_name": "Python 3.10.2 64-bit ('3.10.2')",
   "language": "python",
   "name": "python3"
  },
  "language_info": {
   "codemirror_mode": {
    "name": "ipython",
    "version": 3
   },
   "file_extension": ".py",
   "mimetype": "text/x-python",
   "name": "python",
   "nbconvert_exporter": "python",
   "pygments_lexer": "ipython3",
   "version": "3.10.2"
  },
  "orig_nbformat": 4
 },
 "nbformat": 4,
 "nbformat_minor": 2
}
