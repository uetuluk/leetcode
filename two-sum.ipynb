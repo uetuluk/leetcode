{
 "cells": [
  {
   "cell_type": "code",
   "execution_count": null,
   "metadata": {},
   "outputs": [],
   "source": [
    "https://leetcode.com/problems/two-sum/"
   ]
  },
  {
   "cell_type": "code",
   "execution_count": 14,
   "metadata": {},
   "outputs": [],
   "source": [
    "nums = [3,2,4]\n",
    "target = 6"
   ]
  },
  {
   "cell_type": "markdown",
   "metadata": {},
   "source": [
    "Simply select one and check the others -> O(n^2)\n",
    "Try sorting then binary search?\n",
    "O(nlogn) + O(nlogn)"
   ]
  },
  {
   "cell_type": "markdown",
   "metadata": {},
   "source": [
    "Sort -> Merge Sort "
   ]
  },
  {
   "cell_type": "code",
   "execution_count": 36,
   "metadata": {},
   "outputs": [],
   "source": [
    "def mergeSort(nums: list[int]) -> list[int]:\n",
    "    arr = nums.copy()\n",
    "    if len(arr) > 1:\n",
    "        middle = len(arr)//2\n",
    "\n",
    "        left = arr[:middle]\n",
    "        right = arr[middle:]\n",
    "  \n",
    "        mergeSort(left)\n",
    "  \n",
    "        mergeSort(right)\n",
    "  \n",
    "        i = j = k = 0\n",
    "  \n",
    "        while i < len(left) and j < len(right):\n",
    "            if left[i] < right[j]:\n",
    "                arr[k] = left[i]\n",
    "                i += 1\n",
    "            else:\n",
    "                arr[k] = right[j]\n",
    "                j += 1\n",
    "            k += 1\n",
    "  \n",
    "        while i < len(left):\n",
    "            arr[k] = left[i]\n",
    "            i += 1\n",
    "            k += 1\n",
    "  \n",
    "        while j < len(right):\n",
    "            arr[k] = right[j]\n",
    "            j += 1\n",
    "            k += 1\n",
    "    return arr"
   ]
  },
  {
   "cell_type": "code",
   "execution_count": 37,
   "metadata": {},
   "outputs": [
    {
     "data": {
      "text/plain": [
       "[2, 3, 4]"
      ]
     },
     "execution_count": 37,
     "metadata": {},
     "output_type": "execute_result"
    }
   ],
   "source": [
    "sorted_nums = mergeSort(nums)\n",
    "sorted_nums"
   ]
  },
  {
   "cell_type": "markdown",
   "metadata": {},
   "source": [
    "Binary search"
   ]
  },
  {
   "cell_type": "code",
   "execution_count": 38,
   "metadata": {},
   "outputs": [],
   "source": [
    "def binarySearch(arr, l, r, x):\n",
    " \n",
    "    # Check base case\n",
    "    if r >= l:\n",
    " \n",
    "        mid = l + (r - l) // 2\n",
    " \n",
    "        # If element is present at the middle itself\n",
    "        if arr[mid] == x:\n",
    "            return mid\n",
    " \n",
    "        # If element is smaller than mid, then it\n",
    "        # can only be present in left subarray\n",
    "        elif arr[mid] > x:\n",
    "            return binarySearch(arr, l, mid-1, x)\n",
    " \n",
    "        # Else the element can only be present\n",
    "        # in right subarray\n",
    "        else:\n",
    "            return binarySearch(arr, mid + 1, r, x)\n",
    " \n",
    "    else:\n",
    "        # Element is not present in the array\n",
    "        return -1"
   ]
  },
  {
   "cell_type": "markdown",
   "metadata": {},
   "source": [
    "Combine"
   ]
  },
  {
   "cell_type": "code",
   "execution_count": 46,
   "metadata": {},
   "outputs": [
    {
     "name": "stdout",
     "output_type": "stream",
     "text": [
      "4 2\n"
     ]
    }
   ],
   "source": [
    "for num in nums:\n",
    "    result_index = binarySearch(sorted_nums, 0, len(sorted_nums) - 1, target - num)\n",
    "    if result_index != -1 and (num != sorted_nums[result_index]):\n",
    "        solution_right = sorted_nums[result_index]\n",
    "        solution_left = num\n",
    "print(solution_left, solution_right)"
   ]
  },
  {
   "cell_type": "code",
   "execution_count": 41,
   "metadata": {},
   "outputs": [
    {
     "data": {
      "text/plain": [
       "4"
      ]
     },
     "execution_count": 41,
     "metadata": {},
     "output_type": "execute_result"
    }
   ],
   "source": [
    "solution_left"
   ]
  },
  {
   "cell_type": "markdown",
   "metadata": {},
   "source": [
    "Find the location of the numbers"
   ]
  },
  {
   "cell_type": "code",
   "execution_count": 47,
   "metadata": {},
   "outputs": [],
   "source": [
    "solution = [0,0]\n",
    "for num_index in range(len(nums)):\n",
    "    if (nums[num_index] == solution_left):\n",
    "        solution[0] = num_index\n",
    "    elif (nums[num_index] == solution_right):\n",
    "        solution[1] = num_index\n"
   ]
  },
  {
   "cell_type": "code",
   "execution_count": 48,
   "metadata": {},
   "outputs": [
    {
     "data": {
      "text/plain": [
       "[2, 1]"
      ]
     },
     "execution_count": 48,
     "metadata": {},
     "output_type": "execute_result"
    }
   ],
   "source": [
    "solution"
   ]
  },
  {
   "cell_type": "code",
   "execution_count": 175,
   "metadata": {},
   "outputs": [],
   "source": [
    "class Solution:\n",
    "    def binary_search_helper(self, arr: list[int], l: int, r:int, x:int) -> int:\n",
    "        # Check base case\n",
    "        if r >= l:\n",
    "    \n",
    "            mid = l + (r - l) // 2\n",
    "    \n",
    "            # If element is present at the middle itself\n",
    "            if arr[mid] == x:\n",
    "                return mid\n",
    "    \n",
    "            # If element is smaller than mid, then it\n",
    "            # can only be present in left subarray\n",
    "            elif arr[mid] > x:\n",
    "                return self.binary_search_helper(arr, l, mid-1, x)\n",
    "    \n",
    "            # Else the element can only be present\n",
    "            # in right subarray\n",
    "            else:\n",
    "                return self.binary_search_helper(arr, mid + 1, r, x)\n",
    "        else:\n",
    "            # Element is not present in the array\n",
    "            return -1\n",
    "    \n",
    "    def binary_search(self, arr: list[int], num: int) -> int:\n",
    "        result_index = self.binary_search_helper(arr, 0, len(arr) - 1, num)\n",
    "        return result_index\n",
    "    \n",
    "    def merge_sort_helper(self, arr: list[int]) -> list[int]:\n",
    "        if len(arr) > 1:\n",
    "            middle = len(arr)//2\n",
    "\n",
    "            left = arr[:middle]\n",
    "            right = arr[middle:]\n",
    "    \n",
    "            self.merge_sort_helper(left)\n",
    "    \n",
    "            self.merge_sort_helper(right)\n",
    "    \n",
    "            i = j = k = 0\n",
    "    \n",
    "            while i < len(left) and j < len(right):\n",
    "                if left[i] < right[j]:\n",
    "                    arr[k] = left[i]\n",
    "                    i += 1\n",
    "                else:\n",
    "                    arr[k] = right[j]\n",
    "                    j += 1\n",
    "                k += 1\n",
    "    \n",
    "            while i < len(left):\n",
    "                arr[k] = left[i]\n",
    "                i += 1\n",
    "                k += 1\n",
    "    \n",
    "            while j < len(right):\n",
    "                arr[k] = right[j]\n",
    "                j += 1\n",
    "                k += 1\n",
    "    \n",
    "    def merge_sort(self, nums: list[int]) -> list[int]:\n",
    "        sorted_nums = nums.copy()\n",
    "        self.merge_sort_helper(sorted_nums)\n",
    "        # print(sorted_nums)\n",
    "        return sorted_nums\n",
    "\n",
    "    def twoSum(self, nums: list[int], target: int) -> list[int]:\n",
    "        # Sort the numbers\n",
    "        sorted_nums = self.merge_sort(nums)\n",
    "        # print(sorted_nums)\n",
    "\n",
    "        # Find the solutions\n",
    "        for num_index_solution in range(len(sorted_nums)):\n",
    "            result_index = self.binary_search(sorted_nums, target - sorted_nums[num_index_solution])\n",
    "\n",
    "            # it cannot be the same index\n",
    "            if (result_index != -1) and (num_index_solution != result_index):\n",
    "                # print(result_index, num_index_solution)\n",
    "                # print(num, result_index, sorted_nums[result_index])\n",
    "                solution_left = sorted_nums[num_index_solution]\n",
    "                solution_right = sorted_nums[result_index]\n",
    "                break\n",
    "\n",
    "        # Find the solution index\n",
    "        # It will find the same item if searched this way\n",
    "        solution = [-1,-1]\n",
    "        # print(solution_left, solution_right)\n",
    "        for num_index in range(len(nums)):\n",
    "            # print(num_index)\n",
    "            if (nums[num_index] == solution_left) and (solution[0] == -1):\n",
    "                # print(\"left\")\n",
    "                solution[0] = num_index\n",
    "                nums[num_index] = \"left\"\n",
    "\n",
    "            if (nums[num_index] == solution_right) and (solution[1] == -1):\n",
    "                # print(\"right\")\n",
    "                solution[1] = num_index\n",
    "                nums[num_index] = \"right\"\n",
    "                \n",
    "            # print(solution)\n",
    "\n",
    "        return solution \n",
    "        "
   ]
  },
  {
   "cell_type": "markdown",
   "metadata": {},
   "source": [
    "Binary Search is not working properly?"
   ]
  },
  {
   "cell_type": "code",
   "execution_count": 176,
   "metadata": {},
   "outputs": [
    {
     "data": {
      "text/plain": [
       "0"
      ]
     },
     "execution_count": 176,
     "metadata": {},
     "output_type": "execute_result"
    }
   ],
   "source": [
    "solution = Solution()\n",
    "solution.binary_search([2,5,5,11], 2)"
   ]
  },
  {
   "cell_type": "code",
   "execution_count": 177,
   "metadata": {},
   "outputs": [
    {
     "data": {
      "text/plain": [
       "[3, 0]"
      ]
     },
     "execution_count": 177,
     "metadata": {},
     "output_type": "execute_result"
    }
   ],
   "source": [
    "nums = [150,24,79,50,88,345,3]\n",
    "target = 200\n",
    "solution = Solution()\n",
    "solution.twoSum(nums, target)"
   ]
  },
  {
   "cell_type": "code",
   "execution_count": null,
   "metadata": {},
   "outputs": [],
   "source": []
  },
  {
   "cell_type": "code",
   "execution_count": null,
   "metadata": {},
   "outputs": [],
   "source": []
  }
 ],
 "metadata": {
  "interpreter": {
   "hash": "36867ff47f70aa4dbe2e5ace402db8c2a2d836502a56e3d4b679e323f97566da"
  },
  "kernelspec": {
   "display_name": "Python 3.10.2 64-bit ('3.10.2')",
   "language": "python",
   "name": "python3"
  },
  "language_info": {
   "codemirror_mode": {
    "name": "ipython",
    "version": 3
   },
   "file_extension": ".py",
   "mimetype": "text/x-python",
   "name": "python",
   "nbconvert_exporter": "python",
   "pygments_lexer": "ipython3",
   "version": "3.10.2"
  },
  "orig_nbformat": 4
 },
 "nbformat": 4,
 "nbformat_minor": 2
}
