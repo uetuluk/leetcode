{
 "cells": [
  {
   "cell_type": "markdown",
   "metadata": {},
   "source": [
    "https://leetcode.com/problems/palindrome-number/"
   ]
  },
  {
   "cell_type": "code",
   "execution_count": 1,
   "metadata": {},
   "outputs": [],
   "source": [
    "class Solution:\n",
    "    def isPalindrome(self, x: int) -> bool:\n",
    "        return False"
   ]
  },
  {
   "cell_type": "code",
   "execution_count": 2,
   "metadata": {},
   "outputs": [
    {
     "data": {
      "text/plain": [
       "False"
      ]
     },
     "execution_count": 2,
     "metadata": {},
     "output_type": "execute_result"
    }
   ],
   "source": [
    "number = 1\n",
    "solution = Solution()\n",
    "solution.isPalindrome(number)"
   ]
  },
  {
   "cell_type": "markdown",
   "metadata": {},
   "source": [
    "Cases\n",
    "* Less than 0, False\n",
    "* One digit, True\n",
    "* More digits, just count from both sides"
   ]
  },
  {
   "cell_type": "code",
   "execution_count": 26,
   "metadata": {},
   "outputs": [],
   "source": [
    "testcases = [-10, 0, 5, 10, 11, 101, 102, 1001]"
   ]
  },
  {
   "cell_type": "code",
   "execution_count": 27,
   "metadata": {},
   "outputs": [],
   "source": [
    "def isPalindrome(x: int) -> bool:\n",
    "\n",
    "    if x < 0:\n",
    "        return False\n",
    "    elif x < 10:\n",
    "        return True\n",
    "    else:\n",
    "        x_str = str(x)\n",
    "        x_str_length = len(x_str)\n",
    "        # print(x_str_length)\n",
    "\n",
    "        for index in range(0, x_str_length // 2):\n",
    "            # print(index)\n",
    "            if x_str[index] != x_str[x_str_length - index - 1]:\n",
    "                return False\n",
    "        \n",
    "        return True"
   ]
  },
  {
   "cell_type": "code",
   "execution_count": 28,
   "metadata": {},
   "outputs": [
    {
     "name": "stdout",
     "output_type": "stream",
     "text": [
      "-10 False\n",
      "0 True\n",
      "5 True\n",
      "10 False\n",
      "11 True\n",
      "101 True\n",
      "102 False\n",
      "1001 True\n"
     ]
    }
   ],
   "source": [
    "for case in testcases:\n",
    "    flag = isPalindrome(case)\n",
    "    print(case, flag)"
   ]
  },
  {
   "cell_type": "markdown",
   "metadata": {},
   "source": [
    "O(log_10(n)) time complexity solution"
   ]
  },
  {
   "cell_type": "code",
   "execution_count": 31,
   "metadata": {},
   "outputs": [],
   "source": [
    "def isPalindrome(x: int) -> bool:\n",
    "\n",
    "    if x < 0:\n",
    "        return False\n",
    "    elif x < 10:\n",
    "        return True\n",
    "    elif x % 10 == 0:\n",
    "        return False\n",
    "    else:\n",
    "        first_half = x\n",
    "        second_half = 0\n",
    "\n",
    "        while (second_half < first_half):\n",
    "            second_half = 10 * second_half + first_half % 10\n",
    "            first_half = first_half // 10\n",
    "        \n",
    "        # print(first_half, second_half)\n",
    "\n",
    "        if first_half != second_half and first_half != second_half // 10:\n",
    "            return False\n",
    "        \n",
    "        return True\n"
   ]
  },
  {
   "cell_type": "code",
   "execution_count": 32,
   "metadata": {},
   "outputs": [
    {
     "name": "stdout",
     "output_type": "stream",
     "text": [
      "-10 False\n",
      "0 True\n",
      "5 True\n",
      "10 False\n",
      "11 True\n",
      "101 True\n",
      "102 False\n",
      "1001 True\n"
     ]
    }
   ],
   "source": [
    "for case in testcases:\n",
    "    flag = isPalindrome(case)\n",
    "    print(case, flag)"
   ]
  },
  {
   "cell_type": "code",
   "execution_count": null,
   "metadata": {},
   "outputs": [],
   "source": []
  },
  {
   "cell_type": "code",
   "execution_count": null,
   "metadata": {},
   "outputs": [],
   "source": []
  }
 ],
 "metadata": {
  "interpreter": {
   "hash": "36867ff47f70aa4dbe2e5ace402db8c2a2d836502a56e3d4b679e323f97566da"
  },
  "kernelspec": {
   "display_name": "Python 3.10.2 64-bit ('3.10.2')",
   "language": "python",
   "name": "python3"
  },
  "language_info": {
   "codemirror_mode": {
    "name": "ipython",
    "version": 3
   },
   "file_extension": ".py",
   "mimetype": "text/x-python",
   "name": "python",
   "nbconvert_exporter": "python",
   "pygments_lexer": "ipython3",
   "version": "3.10.2"
  },
  "orig_nbformat": 4
 },
 "nbformat": 4,
 "nbformat_minor": 2
}
