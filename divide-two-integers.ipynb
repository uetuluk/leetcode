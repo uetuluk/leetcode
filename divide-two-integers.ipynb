{
 "cells": [
  {
   "cell_type": "markdown",
   "metadata": {},
   "source": [
    "https://leetcode.com/problems/divide-two-integers/"
   ]
  },
  {
   "cell_type": "code",
   "execution_count": 18,
   "metadata": {},
   "outputs": [],
   "source": [
    "dividend = 10\n",
    "divisor = 3"
   ]
  },
  {
   "cell_type": "code",
   "execution_count": 19,
   "metadata": {},
   "outputs": [],
   "source": [
    "# Handle signs\n",
    "dividend_negative = dividend < 0\n",
    "divisor_negative = divisor < 0\n",
    "\n",
    "# Only change sign if xor\n",
    "change_sign = dividend_negative ^ divisor_negative"
   ]
  },
  {
   "cell_type": "code",
   "execution_count": 20,
   "metadata": {},
   "outputs": [],
   "source": [
    "dividend_absolute = abs(dividend)\n",
    "divisor_absolute = abs(divisor)"
   ]
  },
  {
   "cell_type": "code",
   "execution_count": 23,
   "metadata": {},
   "outputs": [],
   "source": [
    "total = divisor_absolute\n",
    "counter = 0\n",
    "\n",
    "while total < dividend_absolute:\n",
    "    total += divisor_absolute\n",
    "    counter += 1"
   ]
  },
  {
   "cell_type": "code",
   "execution_count": 26,
   "metadata": {},
   "outputs": [
    {
     "data": {
      "text/plain": [
       "3"
      ]
     },
     "execution_count": 26,
     "metadata": {},
     "output_type": "execute_result"
    }
   ],
   "source": [
    "quotient = -1 * counter if change_sign else counter"
   ]
  },
  {
   "cell_type": "code",
   "execution_count": 31,
   "metadata": {},
   "outputs": [],
   "source": [
    "if quotient > 2147483647:\n",
    "    quotient = 2147483647\n",
    "elif quotient < -2147483648:\n",
    "    quotient = -2147483648"
   ]
  },
  {
   "cell_type": "code",
   "execution_count": 35,
   "metadata": {},
   "outputs": [],
   "source": [
    "class Solution:\n",
    "    def divide(self, dividend: int, divisor: int) -> int:\n",
    "        # Handle signs\n",
    "        dividend_negative = dividend < 0\n",
    "        divisor_negative = divisor < 0\n",
    "        \n",
    "        # Only change sign if xor\n",
    "        change_sign = dividend_negative ^ divisor_negative\n",
    "\n",
    "        dividend_absolute = abs(dividend)\n",
    "        divisor_absolute = abs(divisor)\n",
    "\n",
    "        # Simple loop\n",
    "        total = divisor_absolute\n",
    "        counter = 0\n",
    "\n",
    "        while dividend_absolute >= total:\n",
    "            total += divisor_absolute\n",
    "            counter += 1\n",
    "        \n",
    "        quotient = -1 * counter if change_sign else counter\n",
    "\n",
    "        # Handle extremes\n",
    "        if quotient > 2147483647:\n",
    "            quotient = 2147483647\n",
    "        elif quotient < -2147483648:\n",
    "            quotient = -2147483648\n",
    "\n",
    "        return quotient\n",
    "\n",
    "        "
   ]
  },
  {
   "cell_type": "code",
   "execution_count": 41,
   "metadata": {},
   "outputs": [
    {
     "name": "stdout",
     "output_type": "stream",
     "text": [
      "1\n"
     ]
    }
   ],
   "source": [
    "solution = Solution()\n",
    "result = solution.divide(dividend = 1, divisor = 1)\n",
    "print(result)"
   ]
  },
  {
   "cell_type": "code",
   "execution_count": null,
   "metadata": {},
   "outputs": [],
   "source": []
  }
 ],
 "metadata": {
  "interpreter": {
   "hash": "36867ff47f70aa4dbe2e5ace402db8c2a2d836502a56e3d4b679e323f97566da"
  },
  "kernelspec": {
   "display_name": "Python 3.10.2 64-bit ('3.10.2')",
   "language": "python",
   "name": "python3"
  },
  "language_info": {
   "codemirror_mode": {
    "name": "ipython",
    "version": 3
   },
   "file_extension": ".py",
   "mimetype": "text/x-python",
   "name": "python",
   "nbconvert_exporter": "python",
   "pygments_lexer": "ipython3",
   "version": "3.10.2"
  },
  "orig_nbformat": 4
 },
 "nbformat": 4,
 "nbformat_minor": 2
}
