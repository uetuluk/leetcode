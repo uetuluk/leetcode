{
 "cells": [
  {
   "cell_type": "markdown",
   "metadata": {},
   "source": [
    "https://leetcode.com/problems/divide-two-integers/"
   ]
  },
  {
   "cell_type": "code",
   "execution_count": 18,
   "metadata": {},
   "outputs": [],
   "source": [
    "dividend = 10\n",
    "divisor = 3"
   ]
  },
  {
   "cell_type": "code",
   "execution_count": 19,
   "metadata": {},
   "outputs": [],
   "source": [
    "# Handle signs\n",
    "dividend_negative = dividend < 0\n",
    "divisor_negative = divisor < 0\n",
    "\n",
    "# Only change sign if xor\n",
    "change_sign = dividend_negative ^ divisor_negative"
   ]
  },
  {
   "cell_type": "code",
   "execution_count": 20,
   "metadata": {},
   "outputs": [],
   "source": [
    "dividend_absolute = abs(dividend)\n",
    "divisor_absolute = abs(divisor)"
   ]
  },
  {
   "cell_type": "code",
   "execution_count": 23,
   "metadata": {},
   "outputs": [],
   "source": [
    "total = divisor_absolute\n",
    "counter = 0\n",
    "\n",
    "while total < dividend_absolute:\n",
    "    total += divisor_absolute\n",
    "    counter += 1"
   ]
  },
  {
   "cell_type": "code",
   "execution_count": 26,
   "metadata": {},
   "outputs": [
    {
     "data": {
      "text/plain": [
       "3"
      ]
     },
     "execution_count": 26,
     "metadata": {},
     "output_type": "execute_result"
    }
   ],
   "source": [
    "quotient = -1 * counter if change_sign else counter"
   ]
  },
  {
   "cell_type": "code",
   "execution_count": 31,
   "metadata": {},
   "outputs": [],
   "source": [
    "if quotient > 2147483647:\n",
    "    quotient = 2147483647\n",
    "elif quotient < -2147483648:\n",
    "    quotient = -2147483648"
   ]
  },
  {
   "cell_type": "code",
   "execution_count": 35,
   "metadata": {},
   "outputs": [],
   "source": [
    "class Solution:\n",
    "    def divide(self, dividend: int, divisor: int) -> int:\n",
    "        # Handle signs\n",
    "        dividend_negative = dividend < 0\n",
    "        divisor_negative = divisor < 0\n",
    "        \n",
    "        # Only change sign if xor\n",
    "        change_sign = dividend_negative ^ divisor_negative\n",
    "\n",
    "        dividend_absolute = abs(dividend)\n",
    "        divisor_absolute = abs(divisor)\n",
    "\n",
    "        # Simple loop\n",
    "        total = divisor_absolute\n",
    "        counter = 0\n",
    "\n",
    "        while dividend_absolute >= total:\n",
    "            total += divisor_absolute\n",
    "            counter += 1\n",
    "        \n",
    "        quotient = -1 * counter if change_sign else counter\n",
    "\n",
    "        # Handle extremes\n",
    "        if quotient > 2147483647:\n",
    "            quotient = 2147483647\n",
    "        elif quotient < -2147483648:\n",
    "            quotient = -2147483648\n",
    "\n",
    "        return quotient\n",
    "\n",
    "        "
   ]
  },
  {
   "cell_type": "code",
   "execution_count": 41,
   "metadata": {},
   "outputs": [
    {
     "name": "stdout",
     "output_type": "stream",
     "text": [
      "1\n"
     ]
    }
   ],
   "source": [
    "solution = Solution()\n",
    "result = solution.divide(dividend = 1, divisor = 1)\n",
    "print(result)"
   ]
  },
  {
   "cell_type": "markdown",
   "metadata": {},
   "source": [
    "This is too slow, try recursive approach"
   ]
  },
  {
   "cell_type": "code",
   "execution_count": 140,
   "metadata": {},
   "outputs": [],
   "source": [
    "class Solution:\n",
    "    def _recursive_helper(self, count: int, total: int, dividend: int, divisor: int) -> int:\n",
    "        if total > dividend:\n",
    "            return count\n",
    "        else:\n",
    "            return self._recursive_helper(count + 1, total + divisor, dividend, divisor)\n",
    "\n",
    "\n",
    "    def divide(self, dividend: int, divisor: int) -> int:\n",
    "        # Handle signs\n",
    "        dividend_negative = dividend < 0\n",
    "        divisor_negative = divisor < 0\n",
    "        \n",
    "        # Only change sign if xor\n",
    "        change_sign = dividend_negative ^ divisor_negative\n",
    "\n",
    "        dividend_absolute = abs(dividend)\n",
    "        divisor_absolute = abs(divisor)\n",
    "\n",
    "        # Recursive loop\n",
    "        counter = 0\n",
    "        total = divisor_absolute\n",
    "        \n",
    "        quotient = self._recursive_helper(counter, total, dividend_absolute, divisor_absolute)\n",
    "        \n",
    "        quotient = 0 - quotient if change_sign else quotient\n",
    "\n",
    "        # Handle extremes\n",
    "        if quotient > 2147483647:\n",
    "            quotient = 2147483647\n",
    "        elif quotient < -2147483648:\n",
    "            quotient = -2147483648\n",
    "\n",
    "        return quotient\n",
    "    \n",
    "    \n"
   ]
  },
  {
   "cell_type": "code",
   "execution_count": 143,
   "metadata": {},
   "outputs": [
    {
     "ename": "RecursionError",
     "evalue": "maximum recursion depth exceeded while calling a Python object",
     "output_type": "error",
     "traceback": [
      "\u001b[0;31m---------------------------------------------------------------------------\u001b[0m",
      "\u001b[0;31mRecursionError\u001b[0m                            Traceback (most recent call last)",
      "\u001b[1;32m/Users/uetuluk/Documents/leetcode/divide-two-integers.ipynb Cell 12'\u001b[0m in \u001b[0;36m<cell line: 2>\u001b[0;34m()\u001b[0m\n\u001b[1;32m      <a href='vscode-notebook-cell:/Users/uetuluk/Documents/leetcode/divide-two-integers.ipynb#ch0000011?line=0'>1</a>\u001b[0m solution \u001b[39m=\u001b[39m Solution()\n\u001b[0;32m----> <a href='vscode-notebook-cell:/Users/uetuluk/Documents/leetcode/divide-two-integers.ipynb#ch0000011?line=1'>2</a>\u001b[0m result \u001b[39m=\u001b[39m solution\u001b[39m.\u001b[39;49mdivide(dividend \u001b[39m=\u001b[39;49m \u001b[39m2147483647\u001b[39;49m, divisor \u001b[39m=\u001b[39;49m \u001b[39m3\u001b[39;49m)\n\u001b[1;32m      <a href='vscode-notebook-cell:/Users/uetuluk/Documents/leetcode/divide-two-integers.ipynb#ch0000011?line=2'>3</a>\u001b[0m \u001b[39mprint\u001b[39m(result)\n",
      "\u001b[1;32m/Users/uetuluk/Documents/leetcode/divide-two-integers.ipynb Cell 11'\u001b[0m in \u001b[0;36mSolution.divide\u001b[0;34m(self, dividend, divisor)\u001b[0m\n\u001b[1;32m     <a href='vscode-notebook-cell:/Users/uetuluk/Documents/leetcode/divide-two-integers.ipynb#ch0000008?line=20'>21</a>\u001b[0m counter \u001b[39m=\u001b[39m \u001b[39m0\u001b[39m\n\u001b[1;32m     <a href='vscode-notebook-cell:/Users/uetuluk/Documents/leetcode/divide-two-integers.ipynb#ch0000008?line=21'>22</a>\u001b[0m total \u001b[39m=\u001b[39m divisor_absolute\n\u001b[0;32m---> <a href='vscode-notebook-cell:/Users/uetuluk/Documents/leetcode/divide-two-integers.ipynb#ch0000008?line=23'>24</a>\u001b[0m quotient \u001b[39m=\u001b[39m \u001b[39mself\u001b[39;49m\u001b[39m.\u001b[39;49m_recursive_helper(counter, total, dividend_absolute, divisor_absolute)\n\u001b[1;32m     <a href='vscode-notebook-cell:/Users/uetuluk/Documents/leetcode/divide-two-integers.ipynb#ch0000008?line=25'>26</a>\u001b[0m quotient \u001b[39m=\u001b[39m \u001b[39m0\u001b[39m \u001b[39m-\u001b[39m quotient \u001b[39mif\u001b[39;00m change_sign \u001b[39melse\u001b[39;00m quotient\n\u001b[1;32m     <a href='vscode-notebook-cell:/Users/uetuluk/Documents/leetcode/divide-two-integers.ipynb#ch0000008?line=27'>28</a>\u001b[0m \u001b[39m# Handle extremes\u001b[39;00m\n",
      "\u001b[1;32m/Users/uetuluk/Documents/leetcode/divide-two-integers.ipynb Cell 11'\u001b[0m in \u001b[0;36mSolution._recursive_helper\u001b[0;34m(self, count, total, dividend, divisor)\u001b[0m\n\u001b[1;32m      <a href='vscode-notebook-cell:/Users/uetuluk/Documents/leetcode/divide-two-integers.ipynb#ch0000008?line=3'>4</a>\u001b[0m     \u001b[39mreturn\u001b[39;00m count\n\u001b[1;32m      <a href='vscode-notebook-cell:/Users/uetuluk/Documents/leetcode/divide-two-integers.ipynb#ch0000008?line=4'>5</a>\u001b[0m \u001b[39melse\u001b[39;00m:\n\u001b[0;32m----> <a href='vscode-notebook-cell:/Users/uetuluk/Documents/leetcode/divide-two-integers.ipynb#ch0000008?line=5'>6</a>\u001b[0m     \u001b[39mreturn\u001b[39;00m \u001b[39mself\u001b[39;49m\u001b[39m.\u001b[39;49m_recursive_helper(count \u001b[39m+\u001b[39;49m \u001b[39m1\u001b[39;49m, total \u001b[39m+\u001b[39;49m divisor, dividend, divisor)\n",
      "\u001b[1;32m/Users/uetuluk/Documents/leetcode/divide-two-integers.ipynb Cell 11'\u001b[0m in \u001b[0;36mSolution._recursive_helper\u001b[0;34m(self, count, total, dividend, divisor)\u001b[0m\n\u001b[1;32m      <a href='vscode-notebook-cell:/Users/uetuluk/Documents/leetcode/divide-two-integers.ipynb#ch0000008?line=3'>4</a>\u001b[0m     \u001b[39mreturn\u001b[39;00m count\n\u001b[1;32m      <a href='vscode-notebook-cell:/Users/uetuluk/Documents/leetcode/divide-two-integers.ipynb#ch0000008?line=4'>5</a>\u001b[0m \u001b[39melse\u001b[39;00m:\n\u001b[0;32m----> <a href='vscode-notebook-cell:/Users/uetuluk/Documents/leetcode/divide-two-integers.ipynb#ch0000008?line=5'>6</a>\u001b[0m     \u001b[39mreturn\u001b[39;00m \u001b[39mself\u001b[39;49m\u001b[39m.\u001b[39;49m_recursive_helper(count \u001b[39m+\u001b[39;49m \u001b[39m1\u001b[39;49m, total \u001b[39m+\u001b[39;49m divisor, dividend, divisor)\n",
      "    \u001b[0;31m[... skipping similar frames: Solution._recursive_helper at line 6 (2961 times)]\u001b[0m\n",
      "\u001b[1;32m/Users/uetuluk/Documents/leetcode/divide-two-integers.ipynb Cell 11'\u001b[0m in \u001b[0;36mSolution._recursive_helper\u001b[0;34m(self, count, total, dividend, divisor)\u001b[0m\n\u001b[1;32m      <a href='vscode-notebook-cell:/Users/uetuluk/Documents/leetcode/divide-two-integers.ipynb#ch0000008?line=3'>4</a>\u001b[0m     \u001b[39mreturn\u001b[39;00m count\n\u001b[1;32m      <a href='vscode-notebook-cell:/Users/uetuluk/Documents/leetcode/divide-two-integers.ipynb#ch0000008?line=4'>5</a>\u001b[0m \u001b[39melse\u001b[39;00m:\n\u001b[0;32m----> <a href='vscode-notebook-cell:/Users/uetuluk/Documents/leetcode/divide-two-integers.ipynb#ch0000008?line=5'>6</a>\u001b[0m     \u001b[39mreturn\u001b[39;00m \u001b[39mself\u001b[39;49m\u001b[39m.\u001b[39;49m_recursive_helper(count \u001b[39m+\u001b[39;49m \u001b[39m1\u001b[39;49m, total \u001b[39m+\u001b[39;49m divisor, dividend, divisor)\n",
      "\u001b[1;32m/Users/uetuluk/Documents/leetcode/divide-two-integers.ipynb Cell 11'\u001b[0m in \u001b[0;36mSolution._recursive_helper\u001b[0;34m(self, count, total, dividend, divisor)\u001b[0m\n\u001b[1;32m      <a href='vscode-notebook-cell:/Users/uetuluk/Documents/leetcode/divide-two-integers.ipynb#ch0000008?line=0'>1</a>\u001b[0m \u001b[39mclass\u001b[39;00m \u001b[39mSolution\u001b[39;00m:\n\u001b[0;32m----> <a href='vscode-notebook-cell:/Users/uetuluk/Documents/leetcode/divide-two-integers.ipynb#ch0000008?line=1'>2</a>\u001b[0m     \u001b[39mdef\u001b[39;00m \u001b[39m_recursive_helper\u001b[39m(\u001b[39mself\u001b[39m, count: \u001b[39mint\u001b[39m, total: \u001b[39mint\u001b[39m, dividend: \u001b[39mint\u001b[39m, divisor: \u001b[39mint\u001b[39m) \u001b[39m-\u001b[39m\u001b[39m>\u001b[39m \u001b[39mint\u001b[39m:\n\u001b[1;32m      <a href='vscode-notebook-cell:/Users/uetuluk/Documents/leetcode/divide-two-integers.ipynb#ch0000008?line=2'>3</a>\u001b[0m         \u001b[39mif\u001b[39;00m total \u001b[39m>\u001b[39m dividend:\n\u001b[1;32m      <a href='vscode-notebook-cell:/Users/uetuluk/Documents/leetcode/divide-two-integers.ipynb#ch0000008?line=3'>4</a>\u001b[0m             \u001b[39mreturn\u001b[39;00m count\n",
      "File \u001b[0;32m_pydevd_bundle/pydevd_cython.pyx:1366\u001b[0m, in \u001b[0;36m_pydevd_bundle.pydevd_cython.SafeCallWrapper.__call__\u001b[0;34m()\u001b[0m\n",
      "\u001b[0;31mRecursionError\u001b[0m: maximum recursion depth exceeded while calling a Python object"
     ]
    }
   ],
   "source": [
    "solution = Solution()\n",
    "result = solution.divide(dividend = 2147483647, divisor = 3)\n",
    "print(result)"
   ]
  },
  {
   "cell_type": "markdown",
   "metadata": {},
   "source": [
    "Use bitshift"
   ]
  },
  {
   "cell_type": "code",
   "execution_count": 169,
   "metadata": {},
   "outputs": [],
   "source": [
    "class Solution:\n",
    "    QUOTIENT_MAX = 2147483647\n",
    "    QUOTIENT_MIN = -2147483648\n",
    "\n",
    "    def divide(self, dividend: int, divisor: int) -> int:\n",
    "        # Handle signs\n",
    "        dividend_negative = dividend < 0\n",
    "        divisor_negative = divisor < 0\n",
    "        \n",
    "        # Only change sign if xor\n",
    "        change_sign = dividend_negative ^ divisor_negative\n",
    "\n",
    "        dividend_absolute = dividend - dividend - dividend if dividend_negative else dividend\n",
    "        divisor_absolute = divisor - divisor - divisor if divisor_negative else divisor\n",
    "\n",
    "        # Simple loop\n",
    "        result = 0\n",
    "\n",
    "        while dividend_absolute >= divisor_absolute:\n",
    "            remainder = divisor_absolute\n",
    "            counter = 1\n",
    "\n",
    "            while dividend_absolute >= remainder << 1:\n",
    "                remainder = remainder << 1\n",
    "                counter = counter << 1\n",
    "            \n",
    "            dividend_absolute -= remainder\n",
    "            result += counter \n",
    "        \n",
    "        quotient = 0 - result if change_sign else result\n",
    "\n",
    "        # Handle extremes\n",
    "        if quotient > self.QUOTIENT_MAX:\n",
    "            quotient = self.QUOTIENT_MAX\n",
    "        elif quotient < self.QUOTIENT_MIN:\n",
    "            quotient = self.QUOTIENT_MIN\n",
    "\n",
    "        return quotient\n",
    "\n",
    "        "
   ]
  },
  {
   "cell_type": "code",
   "execution_count": 170,
   "metadata": {},
   "outputs": [
    {
     "name": "stdout",
     "output_type": "stream",
     "text": [
      "715827882\n"
     ]
    }
   ],
   "source": [
    "solution = Solution()\n",
    "result = solution.divide(dividend = 2147483647, divisor = 3)\n",
    "print(result)"
   ]
  },
  {
   "cell_type": "code",
   "execution_count": 166,
   "metadata": {},
   "outputs": [
    {
     "data": {
      "text/plain": [
       "715827882.3333334"
      ]
     },
     "execution_count": 166,
     "metadata": {},
     "output_type": "execute_result"
    }
   ],
   "source": []
  },
  {
   "cell_type": "code",
   "execution_count": null,
   "metadata": {},
   "outputs": [],
   "source": []
  },
  {
   "cell_type": "markdown",
   "metadata": {},
   "source": [
    "Optimized solution"
   ]
  },
  {
   "cell_type": "code",
   "execution_count": 173,
   "metadata": {},
   "outputs": [
    {
     "name": "stdout",
     "output_type": "stream",
     "text": [
      "715827882\n",
      "0\n",
      "1\n"
     ]
    }
   ],
   "source": [
    "class Solution:\n",
    "    def divide(self, dividend: int, divisor: int) -> int:\n",
    "        dividend_absolute = dividend - dividend - dividend if dividend < 0 else dividend\n",
    "        divisor_absolute = divisor - divisor - divisor if divisor < 0 else divisor\n",
    "\n",
    "        result = 0\n",
    "        while dividend_absolute >= divisor_absolute:\n",
    "            remainder = divisor_absolute\n",
    "            counter = 1\n",
    "\n",
    "            while dividend_absolute >= remainder << 1:\n",
    "                remainder = remainder << 1\n",
    "                counter = counter << 1\n",
    "            \n",
    "            dividend_absolute -= remainder\n",
    "            result += counter \n",
    "        \n",
    "        quotient = 0 - result if ((dividend < 0) ^ (divisor < 0)) else result\n",
    "\n",
    "        # Handle extremes\n",
    "        if quotient > 2147483647:\n",
    "            quotient = 2147483647\n",
    "        elif quotient < -2147483648:\n",
    "            quotient = -2147483648\n",
    "\n",
    "        return quotient\n",
    "\n",
    "solution = Solution()\n",
    "result = solution.divide(dividend = 2147483647, divisor = 3)\n",
    "print(result)\n",
    "result = solution.divide(dividend = -1, divisor = 1)\n",
    "print(result)\n",
    "result = solution.divide(dividend = 1, divisor = 1)\n",
    "print(result)"
   ]
  },
  {
   "cell_type": "code",
   "execution_count": null,
   "metadata": {},
   "outputs": [],
   "source": []
  }
 ],
 "metadata": {
  "interpreter": {
   "hash": "36867ff47f70aa4dbe2e5ace402db8c2a2d836502a56e3d4b679e323f97566da"
  },
  "kernelspec": {
   "display_name": "Python 3.10.2 64-bit ('3.10.2')",
   "language": "python",
   "name": "python3"
  },
  "language_info": {
   "codemirror_mode": {
    "name": "ipython",
    "version": 3
   },
   "file_extension": ".py",
   "mimetype": "text/x-python",
   "name": "python",
   "nbconvert_exporter": "python",
   "pygments_lexer": "ipython3",
   "version": "3.10.2"
  },
  "orig_nbformat": 4
 },
 "nbformat": 4,
 "nbformat_minor": 2
}
